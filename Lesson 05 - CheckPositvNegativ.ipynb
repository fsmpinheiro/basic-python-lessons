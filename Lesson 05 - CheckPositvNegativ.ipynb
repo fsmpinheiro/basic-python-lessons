{
 "cells": [
  {
   "cell_type": "code",
   "execution_count": 2,
   "id": "2a41d052-2464-4a30-859c-53f594b48ebd",
   "metadata": {},
   "outputs": [
    {
     "name": "stdin",
     "output_type": "stream",
     "text": [
      "Enter a number:  -0.7486\n"
     ]
    },
    {
     "name": "stdout",
     "output_type": "stream",
     "text": [
      "This number is negative\n"
     ]
    }
   ],
   "source": [
    "\n",
    "num = float( input(\"Enter a number: \" ))\n",
    "if num > 0:\n",
    "    print(\"This number is positive\")\n",
    "elif num < 0:\n",
    "    print(\"This number is negative\")\n",
    "else:\n",
    "    print(\"The number is Zero\")"
   ]
  },
  {
   "cell_type": "code",
   "execution_count": null,
   "id": "1ce95fa2-d599-435e-bb67-5b485d7e5522",
   "metadata": {},
   "outputs": [],
   "source": []
  }
 ],
 "metadata": {
  "kernelspec": {
   "display_name": "Python 3 (ipykernel)",
   "language": "python",
   "name": "python3"
  },
  "language_info": {
   "codemirror_mode": {
    "name": "ipython",
    "version": 3
   },
   "file_extension": ".py",
   "mimetype": "text/x-python",
   "name": "python",
   "nbconvert_exporter": "python",
   "pygments_lexer": "ipython3",
   "version": "3.11.0"
  }
 },
 "nbformat": 4,
 "nbformat_minor": 5
}
