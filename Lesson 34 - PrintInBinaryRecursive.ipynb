{
 "cells": [
  {
   "cell_type": "code",
   "execution_count": 1,
   "id": "0a7b798f-926f-4e60-bf1b-b78baada27ef",
   "metadata": {},
   "outputs": [],
   "source": [
    "\n",
    "def binary_equivalent(number):\n",
    "    if number == 0:\n",
    "        return \"\"\n",
    "    elif number < 0:\n",
    "        number = abs(number)\n",
    "    return binary_equivalent(number // 2) + str(number % 2)"
   ]
  },
  {
   "cell_type": "code",
   "execution_count": 2,
   "id": "21663979-73c6-4003-8130-c69663ff445f",
   "metadata": {},
   "outputs": [
    {
     "name": "stdin",
     "output_type": "stream",
     "text": [
      "Enter an integer:  -758642\n"
     ]
    },
    {
     "name": "stdout",
     "output_type": "stream",
     "text": [
      "The binary equivalent of -758642 is: -10111001001101110010\n"
     ]
    }
   ],
   "source": [
    "num = int(input(\"Enter an integer: \"))\n",
    "\n",
    "if num == 0:\n",
    "    print(f\"The binary equivalent of {num} is: {num}\")\n",
    "elif num > 0:\n",
    "    print(f\"The binary equivalent of {num} is: {binary_equivalent(num)}\")\n",
    "else:\n",
    "    # num = abs(num)\n",
    "    print(f\"The binary equivalent of {num} is: -{binary_equivalent(num)}\")"
   ]
  },
  {
   "cell_type": "code",
   "execution_count": null,
   "id": "589aec35-d369-49cd-9240-ebead0f3387b",
   "metadata": {},
   "outputs": [],
   "source": []
  }
 ],
 "metadata": {
  "kernelspec": {
   "display_name": "Python 3 (ipykernel)",
   "language": "python",
   "name": "python3"
  },
  "language_info": {
   "codemirror_mode": {
    "name": "ipython",
    "version": 3
   },
   "file_extension": ".py",
   "mimetype": "text/x-python",
   "name": "python",
   "nbconvert_exporter": "python",
   "pygments_lexer": "ipython3",
   "version": "3.11.4"
  }
 },
 "nbformat": 4,
 "nbformat_minor": 5
}
