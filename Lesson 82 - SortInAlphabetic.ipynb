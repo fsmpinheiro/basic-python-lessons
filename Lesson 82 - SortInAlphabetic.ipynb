{
 "cells": [
  {
   "cell_type": "code",
   "execution_count": 5,
   "id": "15b5acda-d898-4399-ac6f-97300caab4aa",
   "metadata": {},
   "outputs": [],
   "source": [
    "\n",
    "def sort_hyphenated_words(sequence):\n",
    "    words = sequence.split('-')\n",
    "    words.sort()\n",
    "\n",
    "    sorted_sequence = ' - '.join(words)\n",
    "    return sorted_sequence"
   ]
  },
  {
   "cell_type": "code",
   "execution_count": 6,
   "id": "27242e01-0598-4bed-93bd-2039856078d8",
   "metadata": {},
   "outputs": [
    {
     "name": "stdin",
     "output_type": "stream",
     "text": [
      "Enter a hyphen-separated sequence of words:  phython-code-data-class-lessons-study\n"
     ]
    },
    {
     "name": "stdout",
     "output_type": "stream",
     "text": [
      "Sorted sequence: class - code - data - lessons - phython - study\n"
     ]
    }
   ],
   "source": [
    "\n",
    "input_strg = input(\"Enter a hyphen-separated sequence of words: \")\n",
    "result = sort_hyphenated_words(input_strg)\n",
    "\n",
    "print(f\"Sorted sequence: {result}\")"
   ]
  },
  {
   "cell_type": "code",
   "execution_count": null,
   "id": "2522074c-a25a-41c0-88c7-5d4406ad6f32",
   "metadata": {},
   "outputs": [],
   "source": []
  }
 ],
 "metadata": {
  "kernelspec": {
   "display_name": "Python 3 (ipykernel)",
   "language": "python",
   "name": "python3"
  },
  "language_info": {
   "codemirror_mode": {
    "name": "ipython",
    "version": 3
   },
   "file_extension": ".py",
   "mimetype": "text/x-python",
   "name": "python",
   "nbconvert_exporter": "python",
   "pygments_lexer": "ipython3",
   "version": "3.11.4"
  }
 },
 "nbformat": 4,
 "nbformat_minor": 5
}
