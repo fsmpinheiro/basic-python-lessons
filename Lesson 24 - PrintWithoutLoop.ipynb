{
 "cells": [
  {
   "cell_type": "code",
   "execution_count": 1,
   "id": "dcf4850d-43f7-4560-93d0-c0d0cccbad82",
   "metadata": {},
   "outputs": [],
   "source": [
    "\n",
    "def print_range(start, end):\n",
    "    if start > end:\n",
    "        return\n",
    "    print(start)\n",
    "    print_range(start + 1, end)"
   ]
  },
  {
   "cell_type": "code",
   "execution_count": 2,
   "id": "c6ce032c-8cb7-4173-8455-573bc807527d",
   "metadata": {},
   "outputs": [
    {
     "name": "stdin",
     "output_type": "stream",
     "text": [
      "Enter the starting number:  3\n",
      "Enter the ending number:  9\n"
     ]
    },
    {
     "name": "stdout",
     "output_type": "stream",
     "text": [
      "\n",
      "Printing:\n",
      "3\n",
      "4\n",
      "5\n",
      "6\n",
      "7\n",
      "8\n",
      "9\n"
     ]
    }
   ],
   "source": [
    "start = int(input(\"Enter the starting number: \"))\n",
    "end   = int(input(\"Enter the ending number: \"))\n",
    "print(\"\\nPrinting:\")\n",
    "print_range(start, end)"
   ]
  },
  {
   "cell_type": "code",
   "execution_count": 3,
   "id": "93334b0c-8366-4fe1-abc9-eb85620694c2",
   "metadata": {},
   "outputs": [],
   "source": [
    "def print_range_backward(start, end):\n",
    "    if start < end:\n",
    "        return\n",
    "    print(end)\n",
    "    print_range_backward(start, end - 1)"
   ]
  },
  {
   "cell_type": "code",
   "execution_count": 8,
   "id": "7c393c3e-ae3c-423e-95b4-d4bd5084fa16",
   "metadata": {},
   "outputs": [
    {
     "name": "stdin",
     "output_type": "stream",
     "text": [
      "Enter the starting number:  5\n",
      "Enter the ending number:  9\n"
     ]
    },
    {
     "name": "stdout",
     "output_type": "stream",
     "text": [
      "\n",
      "Printing:\n"
     ]
    }
   ],
   "source": [
    "start = int(input(\"Enter the starting number: \"))\n",
    "end   = int(input(\"Enter the ending number: \"))\n",
    "print(\"\\nPrinting:\")\n",
    "print_range_backward(start, end)"
   ]
  },
  {
   "cell_type": "code",
   "execution_count": null,
   "id": "98878659-8ac7-4ccb-97de-c89036b7e4a8",
   "metadata": {},
   "outputs": [],
   "source": []
  }
 ],
 "metadata": {
  "kernelspec": {
   "display_name": "Python 3 (ipykernel)",
   "language": "python",
   "name": "python3"
  },
  "language_info": {
   "codemirror_mode": {
    "name": "ipython",
    "version": 3
   },
   "file_extension": ".py",
   "mimetype": "text/x-python",
   "name": "python",
   "nbconvert_exporter": "python",
   "pygments_lexer": "ipython3",
   "version": "3.11.4"
  }
 },
 "nbformat": 4,
 "nbformat_minor": 5
}
