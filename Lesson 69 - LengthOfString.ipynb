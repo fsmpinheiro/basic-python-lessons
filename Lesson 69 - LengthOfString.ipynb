{
 "cells": [
  {
   "cell_type": "code",
   "execution_count": 2,
   "id": "7d14cabf-024b-4bf3-b5e4-d3ffbaa6f22d",
   "metadata": {},
   "outputs": [],
   "source": [
    "\n",
    "def string_length(strg):\n",
    "    count = 0\n",
    "    for _ in strg:\n",
    "        count += 1\n",
    "    return count"
   ]
  },
  {
   "cell_type": "code",
   "execution_count": 3,
   "id": "c33e1e73-75fc-47d5-8b19-ed94b911f674",
   "metadata": {},
   "outputs": [
    {
     "name": "stdin",
     "output_type": "stream",
     "text": [
      "Enter a string:  Hello everyone\n"
     ]
    },
    {
     "name": "stdout",
     "output_type": "stream",
     "text": [
      "The length of this string 'Hello everyone', is: 14\n"
     ]
    }
   ],
   "source": [
    "\n",
    "input_strg = input(\"Enter a string: \")\n",
    "result = string_length(input_strg)\n",
    "\n",
    "print(f\"The length of this string '{input_strg}', is: {result}\")"
   ]
  },
  {
   "cell_type": "code",
   "execution_count": null,
   "id": "2ff1c160-651d-49a4-8725-50a0a3f4064c",
   "metadata": {},
   "outputs": [],
   "source": []
  }
 ],
 "metadata": {
  "kernelspec": {
   "display_name": "Python 3 (ipykernel)",
   "language": "python",
   "name": "python3"
  },
  "language_info": {
   "codemirror_mode": {
    "name": "ipython",
    "version": 3
   },
   "file_extension": ".py",
   "mimetype": "text/x-python",
   "name": "python",
   "nbconvert_exporter": "python",
   "pygments_lexer": "ipython3",
   "version": "3.11.4"
  }
 },
 "nbformat": 4,
 "nbformat_minor": 5
}
