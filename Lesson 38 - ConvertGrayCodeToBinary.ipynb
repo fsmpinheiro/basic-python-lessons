{
 "cells": [
  {
   "cell_type": "code",
   "execution_count": 1,
   "id": "b631fc40-6ef5-4aa6-bc7f-eb031e0f5dc8",
   "metadata": {},
   "outputs": [],
   "source": [
    "\n",
    "def gray_to_binary(gray_str):\n",
    "\n",
    "    binary_code = gray_str[0]\n",
    "    for i in range(1, len(gray_str)):\n",
    "        binary_bit = str( int( binary_code[i - 1] ) ^ int( gray_str[i] ) )\n",
    "        binary_code += binary_bit\n",
    "    return binary_code\n",
    "\n"
   ]
  },
  {
   "cell_type": "code",
   "execution_count": 4,
   "id": "efcc67de-46b6-4ff6-8000-ba528e16f027",
   "metadata": {},
   "outputs": [
    {
     "name": "stdin",
     "output_type": "stream",
     "text": [
      "Enter a Gray Code to convert int Binary Code:  1110110110\n"
     ]
    },
    {
     "name": "stdout",
     "output_type": "stream",
     "text": [
      "Gray Code: 1110110110\n",
      "Converted in Binary Code: 1011011011\n"
     ]
    }
   ],
   "source": [
    "if __name__ == \"__main__\":\n",
    "    gray_input = input(\"Enter a Gray Code to convert int Binary Code: \")\n",
    "\n",
    "    if all(bit in '01' for bit in gray_input):\n",
    "        result = gray_to_binary(gray_input)\n",
    "\n",
    "        print(f\"Gray Code: {gray_input}\")\n",
    "        print(f\"Converted in Binary Code: {result}\")\n",
    "    else:\n",
    "        print(\"invalid input. Please enter a valid Gray Code consisting only of 0's and 1's.\\n\")"
   ]
  },
  {
   "cell_type": "code",
   "execution_count": null,
   "id": "644d3435-d27d-4460-bb11-5c6c1ed9a326",
   "metadata": {},
   "outputs": [],
   "source": []
  }
 ],
 "metadata": {
  "kernelspec": {
   "display_name": "Python 3 (ipykernel)",
   "language": "python",
   "name": "python3"
  },
  "language_info": {
   "codemirror_mode": {
    "name": "ipython",
    "version": 3
   },
   "file_extension": ".py",
   "mimetype": "text/x-python",
   "name": "python",
   "nbconvert_exporter": "python",
   "pygments_lexer": "ipython3",
   "version": "3.11.4"
  }
 },
 "nbformat": 4,
 "nbformat_minor": 5
}
