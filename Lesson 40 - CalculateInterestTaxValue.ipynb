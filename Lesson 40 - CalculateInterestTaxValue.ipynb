{
 "cells": [
  {
   "cell_type": "code",
   "execution_count": 1,
   "id": "21e3f3f3-26e3-40e2-b2df-76d1bf05937b",
   "metadata": {},
   "outputs": [],
   "source": [
    "\n",
    "def calculate_simple_interest(principal, rate, time):\n",
    "    simple_interest = (principal * rate * time) / 100\n",
    "    return simple_interest"
   ]
  },
  {
   "cell_type": "code",
   "execution_count": 2,
   "id": "c501de90-0aae-4d60-9f0c-e3697a74bc4d",
   "metadata": {},
   "outputs": [
    {
     "name": "stdin",
     "output_type": "stream",
     "text": [
      "Enter the principal amount:  500\n",
      "Enter the rate of interest tax:  15\n",
      "Enter the time in years:  3\n"
     ]
    },
    {
     "name": "stdout",
     "output_type": "stream",
     "text": [
      "The Simple Interest is: 225.0.\n",
      "\n"
     ]
    }
   ],
   "source": [
    "principal = float(input(\"Enter the principal amount: \"))\n",
    "rate = float(input(\"Enter the rate of interest tax: \"))\n",
    "time = float(input(\"Enter the time in years: \"))\n",
    "\n",
    "interest_return = calculate_simple_interest(principal, rate, time)\n",
    "\n",
    "print(f\"The Simple Interest is: {interest_return}.\\n\")"
   ]
  },
  {
   "cell_type": "code",
   "execution_count": null,
   "id": "d487f556-14f1-425a-94d4-91aee14ac7ab",
   "metadata": {},
   "outputs": [],
   "source": []
  }
 ],
 "metadata": {
  "kernelspec": {
   "display_name": "Python 3 (ipykernel)",
   "language": "python",
   "name": "python3"
  },
  "language_info": {
   "codemirror_mode": {
    "name": "ipython",
    "version": 3
   },
   "file_extension": ".py",
   "mimetype": "text/x-python",
   "name": "python",
   "nbconvert_exporter": "python",
   "pygments_lexer": "ipython3",
   "version": "3.11.4"
  }
 },
 "nbformat": 4,
 "nbformat_minor": 5
}
