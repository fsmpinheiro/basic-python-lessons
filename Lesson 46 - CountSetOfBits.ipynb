{
 "cells": [
  {
   "cell_type": "code",
   "execution_count": 4,
   "id": "4cf35afa-56b3-43cf-9db2-bd959e43bd1a",
   "metadata": {},
   "outputs": [],
   "source": [
    "\n",
    "def count_set_bits(n):\n",
    "    count = 0\n",
    "    while n > 0:\n",
    "        count += n & 1\n",
    "        n >>= 1\n",
    "    return count"
   ]
  },
  {
   "cell_type": "code",
   "execution_count": 6,
   "id": "6c7b840b-e513-485e-a69a-75aa420094df",
   "metadata": {},
   "outputs": [
    {
     "name": "stdin",
     "output_type": "stream",
     "text": [
      "Enter an integer:  64\n"
     ]
    },
    {
     "name": "stdout",
     "output_type": "stream",
     "text": [
      "The number of set bits in 64 is 1.\n"
     ]
    }
   ],
   "source": [
    "\n",
    "num = int(input(\"Enter an integer: \"))\n",
    "\n",
    "print(f\"The number of set bits in {num} is {count_set_bits(num)}.\")"
   ]
  },
  {
   "cell_type": "code",
   "execution_count": null,
   "id": "f39f1efe-87df-4a59-a360-72677506283b",
   "metadata": {},
   "outputs": [],
   "source": []
  }
 ],
 "metadata": {
  "kernelspec": {
   "display_name": "Python 3 (ipykernel)",
   "language": "python",
   "name": "python3"
  },
  "language_info": {
   "codemirror_mode": {
    "name": "ipython",
    "version": 3
   },
   "file_extension": ".py",
   "mimetype": "text/x-python",
   "name": "python",
   "nbconvert_exporter": "python",
   "pygments_lexer": "ipython3",
   "version": "3.11.4"
  }
 },
 "nbformat": 4,
 "nbformat_minor": 5
}
