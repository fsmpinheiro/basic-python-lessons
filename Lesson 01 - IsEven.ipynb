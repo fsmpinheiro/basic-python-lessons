{
 "cells": [
  {
   "cell_type": "code",
   "execution_count": 2,
   "id": "81ea42f0-1ff5-451a-8aba-108f75844d84",
   "metadata": {},
   "outputs": [],
   "source": [
    "def is_even(number):\n",
    "    if number == 0:\n",
    "        return True\n",
    "    elif number == 1:\n",
    "        return False\n",
    "    else:\n",
    "        return is_even( number - 2 )"
   ]
  },
  {
   "cell_type": "code",
   "execution_count": 4,
   "id": "4aba3cef-5502-4791-bc85-0e1689292f45",
   "metadata": {},
   "outputs": [
    {
     "name": "stdin",
     "output_type": "stream",
     "text": [
      "Enter a number:  258\n"
     ]
    },
    {
     "name": "stdout",
     "output_type": "stream",
     "text": [
      "The number 258 is Even. \n"
     ]
    }
   ],
   "source": [
    "num = int(input(\"Enter a number: \"))\n",
    "\n",
    "if is_even(num):\n",
    "    print(f\"The number {num} is Even. \")\n",
    "else:\n",
    "    print(f\"The number {num} is Odd. \")"
   ]
  },
  {
   "cell_type": "code",
   "execution_count": null,
   "id": "9d1cd68b-d6b1-4f7a-a857-284d3f09b8ae",
   "metadata": {},
   "outputs": [],
   "source": []
  }
 ],
 "metadata": {
  "kernelspec": {
   "display_name": "Python 3 (ipykernel)",
   "language": "python",
   "name": "python3"
  },
  "language_info": {
   "codemirror_mode": {
    "name": "ipython",
    "version": 3
   },
   "file_extension": ".py",
   "mimetype": "text/x-python",
   "name": "python",
   "nbconvert_exporter": "python",
   "pygments_lexer": "ipython3",
   "version": "3.11.0"
  }
 },
 "nbformat": 4,
 "nbformat_minor": 5
}
