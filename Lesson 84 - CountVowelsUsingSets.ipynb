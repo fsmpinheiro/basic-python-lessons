{
 "cells": [
  {
   "cell_type": "code",
   "execution_count": 1,
   "id": "69f3fa8c-ca5a-4ce0-9d0d-1ad6925c045f",
   "metadata": {},
   "outputs": [],
   "source": [
    "\n",
    "def count_vowels(inp_str):\n",
    "    vowels = {'a','e','i','o','u'}\n",
    "    inp_str = inp_str.lower()\n",
    "    \n",
    "    vowels_count = sum(1 for char in inp_str if char in vowels)\n",
    "    return vowels_count"
   ]
  },
  {
   "cell_type": "code",
   "execution_count": 2,
   "id": "e55bdcf2-e9fb-41da-8f77-48abd811ca85",
   "metadata": {},
   "outputs": [
    {
     "name": "stdin",
     "output_type": "stream",
     "text": [
      "Enter a string:  This is Python, running on Jupyter\n"
     ]
    },
    {
     "name": "stdout",
     "output_type": "stream",
     "text": [
      "Number of vowels in the string: 8\n"
     ]
    }
   ],
   "source": [
    "input_strg = input(\"Enter a string: \")\n",
    "\n",
    "print(f\"Number of vowels in the string: {count_vowels(input_strg)}\")"
   ]
  },
  {
   "cell_type": "code",
   "execution_count": null,
   "id": "0ecf15af-34c7-49de-9970-066c19f49219",
   "metadata": {},
   "outputs": [],
   "source": []
  }
 ],
 "metadata": {
  "kernelspec": {
   "display_name": "Python 3 (ipykernel)",
   "language": "python",
   "name": "python3"
  },
  "language_info": {
   "codemirror_mode": {
    "name": "ipython",
    "version": 3
   },
   "file_extension": ".py",
   "mimetype": "text/x-python",
   "name": "python",
   "nbconvert_exporter": "python",
   "pygments_lexer": "ipython3",
   "version": "3.11.4"
  }
 },
 "nbformat": 4,
 "nbformat_minor": 5
}
