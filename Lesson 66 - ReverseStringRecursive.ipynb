{
 "cells": [
  {
   "cell_type": "code",
   "execution_count": 1,
   "id": "c6b72f12-2eaa-4049-b7db-ed44f37b0dc8",
   "metadata": {},
   "outputs": [],
   "source": [
    "\n",
    "def reverse_str(strng):\n",
    "    if len(strng) <= 1:\n",
    "        return strng\n",
    "    return reverse_str(strng[1:]) + strng[0]"
   ]
  },
  {
   "cell_type": "code",
   "execution_count": 2,
   "id": "6261c8f2-1309-4836-abc4-be9ea4741009",
   "metadata": {},
   "outputs": [
    {
     "name": "stdin",
     "output_type": "stream",
     "text": [
      "Enter a string:  Banana\n"
     ]
    },
    {
     "name": "stdout",
     "output_type": "stream",
     "text": [
      "Reversed string:  ananaB\n"
     ]
    }
   ],
   "source": [
    "input_str = input(\"Enter a string: \")\n",
    "\n",
    "result_str = reverse_str(input_str)\n",
    "\n",
    "print(\"Reversed string: \", result_str)"
   ]
  },
  {
   "cell_type": "code",
   "execution_count": null,
   "id": "896ee709-21ad-4a72-9d3c-53b470e2ac91",
   "metadata": {},
   "outputs": [],
   "source": []
  }
 ],
 "metadata": {
  "kernelspec": {
   "display_name": "Python 3 (ipykernel)",
   "language": "python",
   "name": "python3"
  },
  "language_info": {
   "codemirror_mode": {
    "name": "ipython",
    "version": 3
   },
   "file_extension": ".py",
   "mimetype": "text/x-python",
   "name": "python",
   "nbconvert_exporter": "python",
   "pygments_lexer": "ipython3",
   "version": "3.11.4"
  }
 },
 "nbformat": 4,
 "nbformat_minor": 5
}
