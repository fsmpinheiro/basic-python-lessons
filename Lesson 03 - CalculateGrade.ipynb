{
 "cells": [
  {
   "cell_type": "code",
   "execution_count": 1,
   "id": "61ea4d7a-69cb-4895-afe2-664e539142f7",
   "metadata": {},
   "outputs": [],
   "source": [
    "\n",
    "def grade_student(marks):\n",
    "    if marks >= 90:\n",
    "        return \"A\"\n",
    "    elif marks >= 80:\n",
    "        return \"B\"\n",
    "    elif marks >= 70:\n",
    "        return \"C\"\n",
    "    elif marks >= 60:\n",
    "        return \"D\"\n",
    "    elif marks >= 50:\n",
    "        return \"E\"\n",
    "    else:\n",
    "        return \"F\""
   ]
  },
  {
   "cell_type": "code",
   "execution_count": 3,
   "id": "d591075c-0738-4404-9fab-0275e10a9530",
   "metadata": {},
   "outputs": [
    {
     "name": "stdin",
     "output_type": "stream",
     "text": [
      "Enter the marks of the student:  96\n"
     ]
    },
    {
     "name": "stdout",
     "output_type": "stream",
     "text": [
      "The grade of the student is: A\n"
     ]
    }
   ],
   "source": [
    "marks = float(input(\"Enter the marks of the student: \"))\n",
    "grade = grade_student(marks)\n",
    "print(f\"The grade of the student is: {grade}\")"
   ]
  },
  {
   "cell_type": "code",
   "execution_count": null,
   "id": "7a208d23-b82b-4f18-b0e3-5e96e879238e",
   "metadata": {},
   "outputs": [],
   "source": []
  }
 ],
 "metadata": {
  "kernelspec": {
   "display_name": "Python 3 (ipykernel)",
   "language": "python",
   "name": "python3"
  },
  "language_info": {
   "codemirror_mode": {
    "name": "ipython",
    "version": 3
   },
   "file_extension": ".py",
   "mimetype": "text/x-python",
   "name": "python",
   "nbconvert_exporter": "python",
   "pygments_lexer": "ipython3",
   "version": "3.11.0"
  }
 },
 "nbformat": 4,
 "nbformat_minor": 5
}
