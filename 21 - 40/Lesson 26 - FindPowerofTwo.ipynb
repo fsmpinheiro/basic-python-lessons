{
 "cells": [
  {
   "cell_type": "code",
   "execution_count": null,
   "id": "27480185-5a51-4467-af3a-8cb4512729b0",
   "metadata": {},
   "outputs": [],
   "source": []
  }
 ],
 "metadata": {
  "kernelspec": {
   "display_name": "",
   "name": ""
  },
  "language_info": {
   "name": ""
  }
 },
 "nbformat": 4,
 "nbformat_minor": 5
}
