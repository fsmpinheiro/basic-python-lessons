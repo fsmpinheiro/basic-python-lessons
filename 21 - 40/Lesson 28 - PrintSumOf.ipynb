{
 "cells": [
  {
   "cell_type": "code",
   "execution_count": 1,
   "id": "055d7aa5-35b1-4cdc-8f15-2ad6ac186912",
   "metadata": {},
   "outputs": [],
   "source": [
    "\n",
    "def print_summation_patter(n):\n",
    "    for i in range(1, n + 1):\n",
    "        print(\"+\".join([str(x) for x in range(1, i + 1)]))"
   ]
  },
  {
   "cell_type": "code",
   "execution_count": 2,
   "id": "51c22417-a9e2-4e7f-be76-137475b07668",
   "metadata": {},
   "outputs": [
    {
     "name": "stdin",
     "output_type": "stream",
     "text": [
      "Enter a number:  8\n"
     ]
    },
    {
     "name": "stdout",
     "output_type": "stream",
     "text": [
      "1\n",
      "1+2\n",
      "1+2+3\n",
      "1+2+3+4\n",
      "1+2+3+4+5\n",
      "1+2+3+4+5+6\n",
      "1+2+3+4+5+6+7\n",
      "1+2+3+4+5+6+7+8\n"
     ]
    }
   ],
   "source": [
    "\n",
    "n = int(input(\"Enter a number: \"))\n",
    "print_summation_patter(n)"
   ]
  },
  {
   "cell_type": "code",
   "execution_count": null,
   "id": "83a1cc33-4ebe-44ef-90b5-6b71a6b30e0a",
   "metadata": {},
   "outputs": [],
   "source": []
  }
 ],
 "metadata": {
  "kernelspec": {
   "display_name": "Python 3 (ipykernel)",
   "language": "python",
   "name": "python3"
  },
  "language_info": {
   "codemirror_mode": {
    "name": "ipython",
    "version": 3
   },
   "file_extension": ".py",
   "mimetype": "text/x-python",
   "name": "python",
   "nbconvert_exporter": "python",
   "pygments_lexer": "ipython3",
   "version": "3.11.4"
  }
 },
 "nbformat": 4,
 "nbformat_minor": 5
}
