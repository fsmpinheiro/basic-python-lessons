{
 "cells": [
  {
   "cell_type": "code",
   "execution_count": 1,
   "id": "c496f235-9ca1-42d6-a685-47938ece4126",
   "metadata": {},
   "outputs": [],
   "source": [
    "\n",
    "def binary_to_gray(binary_str):\n",
    "\n",
    "    gray_code = binary_str[0]\n",
    "    for i in range(1, len(binary_str)):\n",
    "        gray_bit = str(int(binary_str[i - 1]) ^ int(binary_str[i]))\n",
    "        gray_code += gray_bit\n",
    "    return gray_code\n",
    "\n",
    "# Reflected binary (RB) or Gray code, is an ordering of the \n",
    "# binary numeral system such that two successive values \n",
    "# differ in only one bit (binary digit).\n",
    "\n",
    "# For example, the representation of the decimal value \"1\" \n",
    "# in binary would normally be \"001\" and \"2\" would be \"010\". \n",
    "# In Gray code, these values are represented as \"001\" and \"011\". \n",
    "# That way, incrementing a value from 1 to 2 requires only one \n",
    "# bit to change, instead of two. \n",
    "\n",
    "\n",
    "\n",
    "def binary_equivalent(number):\n",
    "    if number == 0:\n",
    "        return \"\"\n",
    "    elif number < 0:\n",
    "        number = abs(number)\n",
    "    return binary_equivalent(number // 2) + str(number % 2)\n",
    "\n"
   ]
  },
  {
   "cell_type": "code",
   "execution_count": 2,
   "id": "e7dbb0e7-b09f-4ee5-8d94-4e6889aef509",
   "metadata": {},
   "outputs": [
    {
     "name": "stdin",
     "output_type": "stream",
     "text": [
      "Enter a number:  25\n"
     ]
    },
    {
     "name": "stdout",
     "output_type": "stream",
     "text": [
      " Decimal: 25 \n",
      " Binary: 11001\n",
      " Corresponding Gray Code: 10101\n"
     ]
    }
   ],
   "source": [
    "decimal_input = int(input(\"Enter a number: \"))\n",
    "binary_version = binary_equivalent(decimal_input)\n",
    "\n",
    "print(f\" Decimal: {decimal_input} \\n Binary: {binary_version}\")\n",
    "\n",
    "if binary_version == \"\":\n",
    "    print(\"Invalid input. Please enter a number different of '0'. \")\n",
    "else:\n",
    "    result = binary_to_gray(binary_version)\n",
    "    print(f\" Corresponding Gray Code: {result}\")"
   ]
  },
  {
   "cell_type": "code",
   "execution_count": null,
   "id": "7fc2fe42-2302-4cc8-8166-0f6fc952ef03",
   "metadata": {},
   "outputs": [],
   "source": []
  }
 ],
 "metadata": {
  "kernelspec": {
   "display_name": "Python 3 (ipykernel)",
   "language": "python",
   "name": "python3"
  },
  "language_info": {
   "codemirror_mode": {
    "name": "ipython",
    "version": 3
   },
   "file_extension": ".py",
   "mimetype": "text/x-python",
   "name": "python",
   "nbconvert_exporter": "python",
   "pygments_lexer": "ipython3",
   "version": "3.11.4"
  }
 },
 "nbformat": 4,
 "nbformat_minor": 5
}
