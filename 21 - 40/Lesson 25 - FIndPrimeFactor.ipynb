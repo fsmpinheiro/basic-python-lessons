{
 "cells": [
  {
   "cell_type": "code",
   "execution_count": 2,
   "id": "3b2afefb-0cbd-4c8c-9a88-d7125446f5f2",
   "metadata": {},
   "outputs": [],
   "source": [
    "\n",
    "def prime_factors(n):\n",
    "    factors = []\n",
    "    while n % 2 ==0:\n",
    "        factors.append(2)\n",
    "        n //= 2\n",
    "    i = 3\n",
    "    while i <= n:\n",
    "        if n % i == 0:\n",
    "            factors.append(i)\n",
    "            n //= i\n",
    "        else:\n",
    "            i += 2\n",
    "    return factors"
   ]
  },
  {
   "cell_type": "code",
   "execution_count": 3,
   "id": "6476f716-56ae-4e3e-aa2d-1d1d130f4c41",
   "metadata": {},
   "outputs": [
    {
     "name": "stdin",
     "output_type": "stream",
     "text": [
      "Enter a number:  18\n"
     ]
    },
    {
     "name": "stdout",
     "output_type": "stream",
     "text": [
      "Prime factors of 18 are: [2, 3, 3]\n"
     ]
    }
   ],
   "source": [
    "\n",
    "num = int(input(\"Enter a number: \"))\n",
    "\n",
    "factorsList = prime_factors(num)\n",
    "print(f\"Prime factors of {num} are: {factorsList}\")"
   ]
  },
  {
   "cell_type": "code",
   "execution_count": null,
   "id": "9c74c5c4-7037-4da6-b81c-bce7b5e52d22",
   "metadata": {},
   "outputs": [],
   "source": []
  }
 ],
 "metadata": {
  "kernelspec": {
   "display_name": "Python 3 (ipykernel)",
   "language": "python",
   "name": "python3"
  },
  "language_info": {
   "codemirror_mode": {
    "name": "ipython",
    "version": 3
   },
   "file_extension": ".py",
   "mimetype": "text/x-python",
   "name": "python",
   "nbconvert_exporter": "python",
   "pygments_lexer": "ipython3",
   "version": "3.11.4"
  }
 },
 "nbformat": 4,
 "nbformat_minor": 5
}
