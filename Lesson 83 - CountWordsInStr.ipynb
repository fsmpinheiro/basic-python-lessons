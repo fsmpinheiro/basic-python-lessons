{
 "cells": [
  {
   "cell_type": "code",
   "execution_count": 1,
   "id": "6967436f-f66c-4867-b36b-ce51c6cd025d",
   "metadata": {},
   "outputs": [],
   "source": [
    "\n",
    "def count_word_ocurr(inp_str):\n",
    "    words = inp_str.split()\n",
    "    word_count = {}\n",
    "\n",
    "    for word in words:\n",
    "        word = word.lower()\n",
    "        if word in word_count:\n",
    "            word_count[word] += 1\n",
    "        else:\n",
    "            word_count[word] = 1\n",
    "\n",
    "    return word_count"
   ]
  },
  {
   "cell_type": "code",
   "execution_count": 2,
   "id": "5a22bff7-18d1-4d24-925c-86b253805e72",
   "metadata": {},
   "outputs": [
    {
     "name": "stdin",
     "output_type": "stream",
     "text": [
      "Enter a string:  Python is easy and powerfull, there is no way someone can't understand it\n"
     ]
    },
    {
     "name": "stdout",
     "output_type": "stream",
     "text": [
      "\n",
      "Word ocurrences:\n",
      "python: 1\n",
      "is: 2\n",
      "easy: 1\n",
      "and: 1\n",
      "powerfull,: 1\n",
      "there: 1\n",
      "no: 1\n",
      "way: 1\n",
      "someone: 1\n",
      "can't: 1\n",
      "understand: 1\n",
      "it: 1\n"
     ]
    }
   ],
   "source": [
    "input_strg = input(\"Enter a string: \")\n",
    "\n",
    "result = count_word_ocurr(input_strg)\n",
    "\n",
    "print(\"\\nWord ocurrences:\")\n",
    "for word, count in result.items():\n",
    "    print(f\"{word}: {count}\")"
   ]
  },
  {
   "cell_type": "code",
   "execution_count": null,
   "id": "53c7f10b-942e-490f-a782-ce6d450a2bec",
   "metadata": {},
   "outputs": [],
   "source": []
  }
 ],
 "metadata": {
  "kernelspec": {
   "display_name": "Python 3 (ipykernel)",
   "language": "python",
   "name": "python3"
  },
  "language_info": {
   "codemirror_mode": {
    "name": "ipython",
    "version": 3
   },
   "file_extension": ".py",
   "mimetype": "text/x-python",
   "name": "python",
   "nbconvert_exporter": "python",
   "pygments_lexer": "ipython3",
   "version": "3.11.4"
  }
 },
 "nbformat": 4,
 "nbformat_minor": 5
}
