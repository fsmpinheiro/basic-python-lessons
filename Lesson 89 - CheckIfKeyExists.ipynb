{
 "cells": [
  {
   "cell_type": "code",
   "execution_count": 1,
   "id": "9c4774da-074b-435d-861d-8d552d8f5636",
   "metadata": {},
   "outputs": [],
   "source": [
    "\n",
    "def check_key_exists(dictionary, key):\n",
    "\n",
    "    return key in dictionary\n",
    "# Check if a key exists in the dictionary.\n",
    "# Args:\n",
    "#         dictionary (dict): The dictionary to check.\n",
    "#         key: The key to search for.\n",
    "# Returns:\n",
    "#         bool: True if the key exists, False otherwise."
   ]
  },
  {
   "cell_type": "code",
   "execution_count": 4,
   "id": "574dffb8-0517-4c02-bbab-933cff40e678",
   "metadata": {},
   "outputs": [],
   "source": [
    "my_dict = {\"name\": \"Max\", \"age\": 25, \"city\": \"Germany\"}\n",
    "\n",
    "\n",
    "def run_check():\n",
    "    key_to_check = input(\"Enter the key to check: \")\n",
    "    \n",
    "    if check_key_exists(my_dict, key_to_check):\n",
    "        print(f\"The key '{key_to_check}' exists in the defined dictionary.\")\n",
    "    else:\n",
    "        print(f\"The key '{key_to_check}' does not exists in the defined dictionary.\")"
   ]
  },
  {
   "cell_type": "code",
   "execution_count": 6,
   "id": "038d34a2-0a5a-47f7-855e-ace0ddb009f6",
   "metadata": {},
   "outputs": [
    {
     "name": "stdin",
     "output_type": "stream",
     "text": [
      "Enter the key to check:  country\n"
     ]
    },
    {
     "name": "stdout",
     "output_type": "stream",
     "text": [
      "The key 'country' does not exists in the defined dictionary.\n"
     ]
    }
   ],
   "source": [
    "run_check()"
   ]
  },
  {
   "cell_type": "code",
   "execution_count": 7,
   "id": "79b858d9-6a54-48fe-8162-64960cd5f7df",
   "metadata": {},
   "outputs": [
    {
     "name": "stdin",
     "output_type": "stream",
     "text": [
      "Enter the key to check:  city\n"
     ]
    },
    {
     "name": "stdout",
     "output_type": "stream",
     "text": [
      "The key 'city' exists in the defined dictionary.\n"
     ]
    }
   ],
   "source": [
    "run_check()"
   ]
  },
  {
   "cell_type": "code",
   "execution_count": null,
   "id": "fdc40d22-fd3f-48c3-aacc-6b1c693d303c",
   "metadata": {},
   "outputs": [],
   "source": []
  }
 ],
 "metadata": {
  "kernelspec": {
   "display_name": "Python 3 (ipykernel)",
   "language": "python",
   "name": "python3"
  },
  "language_info": {
   "codemirror_mode": {
    "name": "ipython",
    "version": 3
   },
   "file_extension": ".py",
   "mimetype": "text/x-python",
   "name": "python",
   "nbconvert_exporter": "python",
   "pygments_lexer": "ipython3",
   "version": "3.11.4"
  }
 },
 "nbformat": 4,
 "nbformat_minor": 5
}
