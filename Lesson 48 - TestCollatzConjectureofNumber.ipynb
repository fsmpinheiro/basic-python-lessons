{
 "cells": [
  {
   "cell_type": "code",
   "execution_count": 2,
   "id": "7d2336aa-fec3-4def-9c3b-7d119ba05bb6",
   "metadata": {},
   "outputs": [],
   "source": [
    "\n",
    "def collatz_conjecture(n):\n",
    "    if n < 1:\n",
    "        print(\"Please, enter a positive integer number.\\n\")\n",
    "\n",
    "    print(f\"Starting number: {n}\")\n",
    "    while n != 1:\n",
    "        if n % 2 == 0:\n",
    "            n = n // 2\n",
    "        else:\n",
    "            n = 3 * n + 1\n",
    "        print(n, end = \" \")\n",
    "    print(\"\\nReached 1!\")"
   ]
  },
  {
   "cell_type": "code",
   "execution_count": 4,
   "id": "79e5e15c-4fc8-4ca1-9720-58a8e1de1c41",
   "metadata": {},
   "outputs": [
    {
     "name": "stdin",
     "output_type": "stream",
     "text": [
      "Enter a positive integer to \n",
      "test the Collatz conjecture: 24\n"
     ]
    },
    {
     "name": "stdout",
     "output_type": "stream",
     "text": [
      "\n",
      "\n",
      "Starting number: 24\n",
      "12 6 3 10 5 16 8 4 2 1 \n",
      "Reached 1!\n"
     ]
    }
   ],
   "source": [
    "try:\n",
    "    number = int(input(\"Enter a positive integer to \\ntest the Collatz conjecture:\"))\n",
    "    print(\"\\n\")\n",
    "    \n",
    "    if number > 0:\n",
    "        collatz_conjecture(number)\n",
    "    else:\n",
    "        print(\"Please, enter a positive integer number.\\n\")\n",
    "except ValueError:\n",
    "    print(\"Invalid input! \\nPlease enter a valid integer;\")"
   ]
  },
  {
   "cell_type": "code",
   "execution_count": null,
   "id": "763aaf44-f4e9-4299-8e65-3295629b9c4e",
   "metadata": {},
   "outputs": [],
   "source": []
  }
 ],
 "metadata": {
  "kernelspec": {
   "display_name": "Python 3 (ipykernel)",
   "language": "python",
   "name": "python3"
  },
  "language_info": {
   "codemirror_mode": {
    "name": "ipython",
    "version": 3
   },
   "file_extension": ".py",
   "mimetype": "text/x-python",
   "name": "python",
   "nbconvert_exporter": "python",
   "pygments_lexer": "ipython3",
   "version": "3.11.4"
  }
 },
 "nbformat": 4,
 "nbformat_minor": 5
}
