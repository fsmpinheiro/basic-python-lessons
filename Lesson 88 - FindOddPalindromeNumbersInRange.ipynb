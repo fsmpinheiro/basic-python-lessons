{
 "cells": [
  {
   "cell_type": "code",
   "execution_count": 1,
   "id": "cc6a9e05-58ce-4108-85b1-00ea0535dc44",
   "metadata": {},
   "outputs": [],
   "source": [
    "\n",
    "def is_palindrome(n):\n",
    "    s = str(n)\n",
    "    return s == s[::-1]\n",
    "\n",
    "def find_odd_palindromes(start, end):\n",
    "    odd_palindromes = []\n",
    "    for num in range(start, end +1):\n",
    "        if num % 2!= 0 and is_palindrome(num):\n",
    "            odd_palindromes.append(num)\n",
    "    return odd_palindromes"
   ]
  },
  {
   "cell_type": "code",
   "execution_count": 2,
   "id": "5c1c1eee-30e8-4a39-929e-32f7b2251b49",
   "metadata": {},
   "outputs": [
    {
     "name": "stdin",
     "output_type": "stream",
     "text": [
      "Enter the start of the range:  1\n",
      "Enter the end of the range:  100\n"
     ]
    },
    {
     "name": "stdout",
     "output_type": "stream",
     "text": [
      "Odd palindromes numbers between 1 and 100 are:\n",
      " [1, 3, 5, 7, 9, 11, 33, 55, 77, 99]\n"
     ]
    }
   ],
   "source": [
    "\n",
    "start = int(input(\"Enter the start of the range: \"))\n",
    "end   = int(input(\"Enter the end of the range: \"))\n",
    "\n",
    "result = find_odd_palindromes(start, end)\n",
    "print(f\"Odd palindromes numbers between {start} and {end} are:\\n {result}\")"
   ]
  },
  {
   "cell_type": "code",
   "execution_count": null,
   "id": "d40158dd-b490-4036-8fd3-2bed7e6a0968",
   "metadata": {},
   "outputs": [],
   "source": []
  }
 ],
 "metadata": {
  "kernelspec": {
   "display_name": "Python 3 (ipykernel)",
   "language": "python",
   "name": "python3"
  },
  "language_info": {
   "codemirror_mode": {
    "name": "ipython",
    "version": 3
   },
   "file_extension": ".py",
   "mimetype": "text/x-python",
   "name": "python",
   "nbconvert_exporter": "python",
   "pygments_lexer": "ipython3",
   "version": "3.11.4"
  }
 },
 "nbformat": 4,
 "nbformat_minor": 5
}
