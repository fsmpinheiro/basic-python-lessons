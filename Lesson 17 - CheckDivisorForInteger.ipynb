{
 "cells": [
  {
   "cell_type": "code",
   "execution_count": 1,
   "id": "08fbdc5f-e0d0-44e0-93f5-72a72e1f54c0",
   "metadata": {},
   "outputs": [],
   "source": [
    "\n",
    "def check_divisor(number):\n",
    "    number = abs(number)\n",
    "    divisors = []\n",
    "    for i in range(1, number + 1):\n",
    "        if number % i == 0:\n",
    "            divisors.append(i)\n",
    "    return divisors"
   ]
  },
  {
   "cell_type": "code",
   "execution_count": 2,
   "id": "236952a8-9331-49ae-a800-1cd88e41621c",
   "metadata": {},
   "outputs": [
    {
     "name": "stdin",
     "output_type": "stream",
     "text": [
      "Enter an integer number:  25\n"
     ]
    },
    {
     "name": "stdout",
     "output_type": "stream",
     "text": [
      "The divisors of 25 are: [1, 5, 25]\n"
     ]
    }
   ],
   "source": [
    "number = int( input(\"Enter an integer number: \") )\n",
    "divrs_list = check_divisor(number)\n",
    "\n",
    "print(f\"The divisors of {number} are: {divrs_list}\")"
   ]
  },
  {
   "cell_type": "code",
   "execution_count": null,
   "id": "72742348-e817-405e-ad95-5595f45983ec",
   "metadata": {},
   "outputs": [],
   "source": []
  }
 ],
 "metadata": {
  "kernelspec": {
   "display_name": "Python 3 (ipykernel)",
   "language": "python",
   "name": "python3"
  },
  "language_info": {
   "codemirror_mode": {
    "name": "ipython",
    "version": 3
   },
   "file_extension": ".py",
   "mimetype": "text/x-python",
   "name": "python",
   "nbconvert_exporter": "python",
   "pygments_lexer": "ipython3",
   "version": "3.11.4"
  }
 },
 "nbformat": 4,
 "nbformat_minor": 5
}
