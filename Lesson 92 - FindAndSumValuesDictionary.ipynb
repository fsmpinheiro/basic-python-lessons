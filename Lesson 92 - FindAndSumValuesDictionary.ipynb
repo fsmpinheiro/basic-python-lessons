{
 "cells": [
  {
   "cell_type": "code",
   "execution_count": 1,
   "id": "c9c53628-aa10-4224-aa81-ca291ba3b7df",
   "metadata": {},
   "outputs": [],
   "source": [
    "\n",
    "def sum_of_values( dictionary ):\n",
    "    return sum(dictionary.values() )\n",
    "\n",
    "# Calculate the sum of all the values in a dictionary\n",
    "# Args:\n",
    "#    dictionary (dict): The dictionary containing numerial values.\n",
    "# Returns:\n",
    "#    int of float: The sum of all the values."
   ]
  },
  {
   "cell_type": "code",
   "execution_count": 2,
   "id": "0a903fac-8ba5-4be3-af1c-58e8afa7f18d",
   "metadata": {},
   "outputs": [
    {
     "name": "stdout",
     "output_type": "stream",
     "text": [
      "The sum of all values in the dictionary is: 60\n"
     ]
    }
   ],
   "source": [
    "my_dict = {\"a\": 10, \"b\": 20, \"c\": 30}\n",
    "\n",
    "total = sum_of_values(my_dict)\n",
    "\n",
    "print(f\"The sum of all values in the dictionary is: {total}\")"
   ]
  },
  {
   "cell_type": "code",
   "execution_count": null,
   "id": "a45f813c-d15c-4bcd-9783-234efb141349",
   "metadata": {},
   "outputs": [],
   "source": []
  }
 ],
 "metadata": {
  "kernelspec": {
   "display_name": "Python 3 (ipykernel)",
   "language": "python",
   "name": "python3"
  },
  "language_info": {
   "codemirror_mode": {
    "name": "ipython",
    "version": 3
   },
   "file_extension": ".py",
   "mimetype": "text/x-python",
   "name": "python",
   "nbconvert_exporter": "python",
   "pygments_lexer": "ipython3",
   "version": "3.11.4"
  }
 },
 "nbformat": 4,
 "nbformat_minor": 5
}
