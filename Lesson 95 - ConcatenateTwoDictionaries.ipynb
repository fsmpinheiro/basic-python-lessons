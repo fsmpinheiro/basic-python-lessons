{
 "cells": [
  {
   "cell_type": "code",
   "execution_count": 1,
   "id": "9b3e0dda-5e43-450f-b4f7-f430a0795047",
   "metadata": {},
   "outputs": [
    {
     "name": "stdout",
     "output_type": "stream",
     "text": [
      "Concatenated Dictionary:  {'a': 1, 'b': 2, 'c': 3, 'd': 4}\n"
     ]
    }
   ],
   "source": [
    "\n",
    "an_dict = {'a': 1, 'b': 2}\n",
    "bn_dict = {'c': 3, 'd': 4}\n",
    "\n",
    "an_dict.update(bn_dict)\n",
    "\n",
    "print(\"Concatenated Dictionary: \", an_dict)"
   ]
  },
  {
   "cell_type": "code",
   "execution_count": null,
   "id": "fc2a4fc7-0431-4fc4-8129-d12363c026c9",
   "metadata": {},
   "outputs": [],
   "source": []
  }
 ],
 "metadata": {
  "kernelspec": {
   "display_name": "Python 3 (ipykernel)",
   "language": "python",
   "name": "python3"
  },
  "language_info": {
   "codemirror_mode": {
    "name": "ipython",
    "version": 3
   },
   "file_extension": ".py",
   "mimetype": "text/x-python",
   "name": "python",
   "nbconvert_exporter": "python",
   "pygments_lexer": "ipython3",
   "version": "3.11.4"
  }
 },
 "nbformat": 4,
 "nbformat_minor": 5
}
