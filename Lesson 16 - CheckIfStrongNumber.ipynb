{
 "cells": [
  {
   "cell_type": "code",
   "execution_count": 1,
   "id": "28c59fc4-82b5-4c39-8ee1-ce8372b52446",
   "metadata": {},
   "outputs": [],
   "source": [
    "import math"
   ]
  },
  {
   "cell_type": "code",
   "execution_count": 2,
   "id": "192b403f-531c-4504-84cc-7bbacbebea73",
   "metadata": {},
   "outputs": [],
   "source": [
    "\n",
    "def is_strong_number(number):\n",
    "    sum_of_factorials = sum( [math.factorial(int(digit)) for digit in str(number)] )\n",
    "\n",
    "    return sum_of_factorials == number"
   ]
  },
  {
   "cell_type": "code",
   "execution_count": 6,
   "id": "aea21263-a540-432a-9b00-b333bf69e3a8",
   "metadata": {},
   "outputs": [
    {
     "name": "stdin",
     "output_type": "stream",
     "text": [
      "Enter a number:  1\n"
     ]
    },
    {
     "name": "stdout",
     "output_type": "stream",
     "text": [
      "1 is a strong number.\n"
     ]
    }
   ],
   "source": [
    "num = int(input(\"Enter a number: \"))\n",
    "\n",
    "if is_strong_number(num):\n",
    "    print(f\"{num} is a strong number.\")\n",
    "else:\n",
    "    print(f\"{num} is a strong number.\")"
   ]
  },
  {
   "cell_type": "code",
   "execution_count": null,
   "id": "7a214690-304d-447c-bcea-93a4518e539a",
   "metadata": {},
   "outputs": [],
   "source": []
  }
 ],
 "metadata": {
  "kernelspec": {
   "display_name": "Python 3 (ipykernel)",
   "language": "python",
   "name": "python3"
  },
  "language_info": {
   "codemirror_mode": {
    "name": "ipython",
    "version": 3
   },
   "file_extension": ".py",
   "mimetype": "text/x-python",
   "name": "python",
   "nbconvert_exporter": "python",
   "pygments_lexer": "ipython3",
   "version": "3.11.4"
  }
 },
 "nbformat": 4,
 "nbformat_minor": 5
}
