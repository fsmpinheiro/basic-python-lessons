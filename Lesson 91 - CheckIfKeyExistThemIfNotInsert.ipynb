{
 "cells": [
  {
   "cell_type": "code",
   "execution_count": 2,
   "id": "dcfc93b0-b53b-4f61-82aa-88488f92a387",
   "metadata": {},
   "outputs": [],
   "source": [
    "\n",
    "def check_key_exists(dictionary, key):\n",
    "    return key in dictionary\n",
    "\n",
    "def add_key_value(dictionary, key, value):\n",
    "    dictionary[key] = value\n",
    "    return dictionary"
   ]
  },
  {
   "cell_type": "code",
   "execution_count": 5,
   "id": "fccfe322-1532-4860-8126-255f01a65388",
   "metadata": {},
   "outputs": [
    {
     "name": "stdout",
     "output_type": "stream",
     "text": [
      "Actual dictionary: {'name': 'Maxuell', 'age': 25, 'city': 'Delih'}\n",
      "\n"
     ]
    },
    {
     "name": "stdin",
     "output_type": "stream",
     "text": [
      "Enter a key to check:  country\n"
     ]
    },
    {
     "name": "stdout",
     "output_type": "stream",
     "text": [
      "This key is not yet present in the dictionary\n"
     ]
    },
    {
     "name": "stdin",
     "output_type": "stream",
     "text": [
      "Enter the value for the key:  India\n"
     ]
    },
    {
     "name": "stdout",
     "output_type": "stream",
     "text": [
      "Updated dictionary: {'name': 'Maxuell', 'age': 25, 'city': 'Delih', 'country': 'India'}\n"
     ]
    }
   ],
   "source": [
    "my_dict = {\"name\": \"Maxuell\", \"age\": 25, \"city\": \"Delih\"}\n",
    "print(f\"Actual dictionary: {my_dict}\\n\")\n",
    "\n",
    "key_to_check = input(\"Enter a key to check: \")\n",
    "\n",
    "if check_key_exists(my_dict, key_to_check):\n",
    "    print(f\"The key '{key_to_check}' alredy exists in the dictionary.\")\n",
    "else:\n",
    "    print(\"This key is not yet present in the dictionary\")\n",
    "    value_to_add = input(\"Enter the value for the key: \")\n",
    "    updated_dic = add_key_value(my_dict, key_to_check, value_to_add)\n",
    "\n",
    "    print(f\"Updated dictionary: {updated_dic}\")"
   ]
  },
  {
   "cell_type": "code",
   "execution_count": null,
   "id": "cba6a842-7958-4ea1-8156-b1c2b37cf3da",
   "metadata": {},
   "outputs": [],
   "source": []
  }
 ],
 "metadata": {
  "kernelspec": {
   "display_name": "Python 3 (ipykernel)",
   "language": "python",
   "name": "python3"
  },
  "language_info": {
   "codemirror_mode": {
    "name": "ipython",
    "version": 3
   },
   "file_extension": ".py",
   "mimetype": "text/x-python",
   "name": "python",
   "nbconvert_exporter": "python",
   "pygments_lexer": "ipython3",
   "version": "3.11.4"
  }
 },
 "nbformat": 4,
 "nbformat_minor": 5
}
