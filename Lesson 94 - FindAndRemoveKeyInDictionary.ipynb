{
 "cells": [
  {
   "cell_type": "code",
   "execution_count": 2,
   "id": "1c90a983-8a58-4c4b-9e82-e8b07b832c64",
   "metadata": {},
   "outputs": [],
   "source": [
    "\n",
    "def remove_key_from_dict(dictionary, key_to_remove):\n",
    "    \n",
    "    if key_to_remove in dictionary:\n",
    "        del dictionary[key_to_remove]\n",
    "        print(f\"The key '{key_to_remove}' has been removed.\")\n",
    "    else:\n",
    "        print(f\"The key '{key_to_remove}' not found in the dictionary.\")\n",
    "\n",
    "    return dictionary"
   ]
  },
  {
   "cell_type": "code",
   "execution_count": 3,
   "id": "5d6f0592-a2a3-4fb0-a936-eeb58c70e2d5",
   "metadata": {},
   "outputs": [
    {
     "name": "stdout",
     "output_type": "stream",
     "text": [
      "Original Dictionary:  {'name': 'Maxuel', 'age': 25, 'city': 'UK'}\n"
     ]
    },
    {
     "name": "stdin",
     "output_type": "stream",
     "text": [
      "Enter the key to remove:  city\n"
     ]
    },
    {
     "name": "stdout",
     "output_type": "stream",
     "text": [
      "The key 'city' has been removed.\n",
      "Updated Dictionary:  {'name': 'Maxuel', 'age': 25}\n"
     ]
    }
   ],
   "source": [
    "\n",
    "my_dict = {\"name\": \"Maxuel\", \"age\": 25, \"city\": \"UK\"}\n",
    "print(\"Original Dictionary: \", my_dict)\n",
    "\n",
    "key = input(\"Enter the key to remove: \")\n",
    "update_dict = remove_key_from_dict(my_dict, key)\n",
    "\n",
    "print(\"Updated Dictionary: \", update_dict)"
   ]
  },
  {
   "cell_type": "code",
   "execution_count": null,
   "id": "dce93c23-9dc9-49dd-a517-5b274fc034fd",
   "metadata": {},
   "outputs": [],
   "source": []
  }
 ],
 "metadata": {
  "kernelspec": {
   "display_name": "Python 3 (ipykernel)",
   "language": "python",
   "name": "python3"
  },
  "language_info": {
   "codemirror_mode": {
    "name": "ipython",
    "version": 3
   },
   "file_extension": ".py",
   "mimetype": "text/x-python",
   "name": "python",
   "nbconvert_exporter": "python",
   "pygments_lexer": "ipython3",
   "version": "3.11.4"
  }
 },
 "nbformat": 4,
 "nbformat_minor": 5
}
