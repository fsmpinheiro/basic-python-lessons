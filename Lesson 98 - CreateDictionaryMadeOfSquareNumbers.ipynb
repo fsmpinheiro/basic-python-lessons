{
 "cells": [
  {
   "cell_type": "code",
   "execution_count": 1,
   "id": "1705612e-0680-4ce4-8bda-77565182016f",
   "metadata": {},
   "outputs": [
    {
     "name": "stdout",
     "output_type": "stream",
     "text": [
      "Dictionary with number and their squares: {1: 1, 2: 4, 3: 9, 4: 16, 5: 25, 6: 36}\n"
     ]
    }
   ],
   "source": [
    "\n",
    "numbers = [1, 2, 3, 4, 5, 6]\n",
    "\n",
    "number_dict = {}\n",
    "\n",
    "for num in numbers:\n",
    "    number_dict[num] = num ** 2\n",
    "\n",
    "print(f\"Dictionary with number and their squares: {number_dict}\")"
   ]
  },
  {
   "cell_type": "code",
   "execution_count": null,
   "id": "a7b13c0c-6366-46a0-b6d0-9a2fa262422a",
   "metadata": {},
   "outputs": [],
   "source": []
  }
 ],
 "metadata": {
  "kernelspec": {
   "display_name": "Python 3 (ipykernel)",
   "language": "python",
   "name": "python3"
  },
  "language_info": {
   "codemirror_mode": {
    "name": "ipython",
    "version": 3
   },
   "file_extension": ".py",
   "mimetype": "text/x-python",
   "name": "python",
   "nbconvert_exporter": "python",
   "pygments_lexer": "ipython3",
   "version": "3.11.4"
  }
 },
 "nbformat": 4,
 "nbformat_minor": 5
}
