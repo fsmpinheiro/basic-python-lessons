{
 "cells": [
  {
   "cell_type": "code",
   "execution_count": 1,
   "id": "6b684da3-279e-4cff-bb24-8b047662b35e",
   "metadata": {},
   "outputs": [
    {
     "name": "stdout",
     "output_type": "stream",
     "text": [
      "Mapped Dictionary:  {'a': 1, 'b': 2, 'c': 3, 'd': 4}\n"
     ]
    }
   ],
   "source": [
    "\n",
    "keys = ['a', 'b', 'c', 'd']\n",
    "values = [1, 2, 3, 4]\n",
    "\n",
    "mapped_dict = dict(zip(keys, values))\n",
    "\n",
    "print(\"Mapped Dictionary: \", mapped_dict)\n",
    "\n",
    "# in Functional paradigm the Zip function is when you take \n",
    "# two input sequences, and produce an output sequence in \n",
    "# which every two elements from input sequences at the \n",
    "# same position are combined using some function."
   ]
  },
  {
   "cell_type": "code",
   "execution_count": null,
   "id": "ecabb0c3-6086-4d98-b807-164cd5608699",
   "metadata": {},
   "outputs": [],
   "source": []
  }
 ],
 "metadata": {
  "kernelspec": {
   "display_name": "Python 3 (ipykernel)",
   "language": "python",
   "name": "python3"
  },
  "language_info": {
   "codemirror_mode": {
    "name": "ipython",
    "version": 3
   },
   "file_extension": ".py",
   "mimetype": "text/x-python",
   "name": "python",
   "nbconvert_exporter": "python",
   "pygments_lexer": "ipython3",
   "version": "3.11.4"
  }
 },
 "nbformat": 4,
 "nbformat_minor": 5
}
