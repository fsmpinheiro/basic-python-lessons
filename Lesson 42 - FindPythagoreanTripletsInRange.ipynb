{
 "cells": [
  {
   "cell_type": "code",
   "execution_count": 1,
   "id": "0586d928-307e-46df-b294-39a4d9c3e653",
   "metadata": {},
   "outputs": [],
   "source": [
    "\n",
    "def find_pythagorean_triplets(limit):\n",
    "    triplets = []\n",
    "    for a in range(1, limit + 1):\n",
    "        for b in range(a, limit + 1):\n",
    "            for c in range(b, limit + 1):\n",
    "                if a**2 + b**2 == c**2:\n",
    "                    triplets.append((a, b, c))\n",
    "    return triplets\n"
   ]
  },
  {
   "cell_type": "code",
   "execution_count": 4,
   "id": "647ecc3c-fbc7-4082-827f-e76df4adc2e2",
   "metadata": {},
   "outputs": [
    {
     "name": "stdin",
     "output_type": "stream",
     "text": [
      "Enter the range limit:  32\n"
     ]
    },
    {
     "name": "stdout",
     "output_type": "stream",
     "text": [
      "Pythagorean Triplets in range 1 to 32 are:\n",
      "(3, 4, 5)\n",
      "(5, 12, 13)\n",
      "(6, 8, 10)\n",
      "(7, 24, 25)\n",
      "(8, 15, 17)\n",
      "(9, 12, 15)\n",
      "(10, 24, 26)\n",
      "(12, 16, 20)\n",
      "(15, 20, 25)\n",
      "(18, 24, 30)\n",
      "(20, 21, 29)\n"
     ]
    }
   ],
   "source": [
    "limit = int(input(\"Enter the range limit: \"))\n",
    "triplets = find_pythagorean_triplets(limit)\n",
    "\n",
    "print(f\"Pythagorean Triplets in range 1 to {limit} are:\")\n",
    "for triplet in triplets:\n",
    "    print(triplet)"
   ]
  },
  {
   "cell_type": "code",
   "execution_count": null,
   "id": "b10c52a2-ea89-4e59-a89b-1cf66beab432",
   "metadata": {},
   "outputs": [],
   "source": []
  }
 ],
 "metadata": {
  "kernelspec": {
   "display_name": "Python 3 (ipykernel)",
   "language": "python",
   "name": "python3"
  },
  "language_info": {
   "codemirror_mode": {
    "name": "ipython",
    "version": 3
   },
   "file_extension": ".py",
   "mimetype": "text/x-python",
   "name": "python",
   "nbconvert_exporter": "python",
   "pygments_lexer": "ipython3",
   "version": "3.11.4"
  }
 },
 "nbformat": 4,
 "nbformat_minor": 5
}
