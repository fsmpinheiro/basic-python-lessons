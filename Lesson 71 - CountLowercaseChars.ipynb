{
 "cells": [
  {
   "cell_type": "code",
   "execution_count": 1,
   "id": "db742ec5-f8de-4444-93d2-bb3dc5f1e11b",
   "metadata": {},
   "outputs": [],
   "source": [
    "\n",
    "def count_lowercase(input_string):\n",
    "    count = 0\n",
    "\n",
    "    for char in input_string:\n",
    "        if char.islower():\n",
    "            count += 1;\n",
    "\n",
    "    return count"
   ]
  },
  {
   "cell_type": "code",
   "execution_count": 2,
   "id": "f9f5f62f-6878-46fc-9425-180fd8b05446",
   "metadata": {},
   "outputs": [
    {
     "name": "stdin",
     "output_type": "stream",
     "text": [
      "Enter a string to count:  This are PYthon Codes\n"
     ]
    },
    {
     "name": "stdout",
     "output_type": "stream",
     "text": [
      "The number of lowercase characters in the string is: 14\n",
      "\n"
     ]
    }
   ],
   "source": [
    "user_input = input(\"Enter a string to count: \")\n",
    "\n",
    "count_result = count_lowercase(user_input)\n",
    "\n",
    "print(f\"The number of lowercase characters in the string is: {count_result}\\n\")"
   ]
  },
  {
   "cell_type": "code",
   "execution_count": null,
   "id": "5c595f78-f5f8-4927-9aae-a777acba640a",
   "metadata": {},
   "outputs": [],
   "source": []
  }
 ],
 "metadata": {
  "kernelspec": {
   "display_name": "Python 3 (ipykernel)",
   "language": "python",
   "name": "python3"
  },
  "language_info": {
   "codemirror_mode": {
    "name": "ipython",
    "version": 3
   },
   "file_extension": ".py",
   "mimetype": "text/x-python",
   "name": "python",
   "nbconvert_exporter": "python",
   "pygments_lexer": "ipython3",
   "version": "3.11.4"
  }
 },
 "nbformat": 4,
 "nbformat_minor": 5
}
