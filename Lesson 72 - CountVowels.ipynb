{
 "cells": [
  {
   "cell_type": "code",
   "execution_count": 1,
   "id": "9c44a03d-386a-4758-a69f-f087a79a448c",
   "metadata": {},
   "outputs": [],
   "source": [
    "\n",
    "def count_vowels(input_string):\n",
    "    vowels = \"aeiouAEIOU\"\n",
    "    count = 0\n",
    "    for char in input_string:\n",
    "        if char in vowels:\n",
    "            count += 1\n",
    "\n",
    "    return count"
   ]
  },
  {
   "cell_type": "code",
   "execution_count": 2,
   "id": "1988fcf3-ebc5-4b2d-94f3-f51dc065da5a",
   "metadata": {},
   "outputs": [
    {
     "name": "stdin",
     "output_type": "stream",
     "text": [
      "Enter a string:  hello dear Python\n"
     ]
    },
    {
     "name": "stdout",
     "output_type": "stream",
     "text": [
      "The number of vowels in this string is: 5\n",
      "\n"
     ]
    }
   ],
   "source": [
    "input_strg = input(\"Enter a string: \")\n",
    "\n",
    "vowel_count = count_vowels(input_strg)\n",
    "\n",
    "print(f\"The number of vowels in this string is: {vowel_count}\\n\")"
   ]
  },
  {
   "cell_type": "code",
   "execution_count": null,
   "id": "fbe09f14-47a1-4a42-9d10-b3562e5abb46",
   "metadata": {},
   "outputs": [],
   "source": []
  }
 ],
 "metadata": {
  "kernelspec": {
   "display_name": "Python 3 (ipykernel)",
   "language": "python",
   "name": "python3"
  },
  "language_info": {
   "codemirror_mode": {
    "name": "ipython",
    "version": 3
   },
   "file_extension": ".py",
   "mimetype": "text/x-python",
   "name": "python",
   "nbconvert_exporter": "python",
   "pygments_lexer": "ipython3",
   "version": "3.11.4"
  }
 },
 "nbformat": 4,
 "nbformat_minor": 5
}
