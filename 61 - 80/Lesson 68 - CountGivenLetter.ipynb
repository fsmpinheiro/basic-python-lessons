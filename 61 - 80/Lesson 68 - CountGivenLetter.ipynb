{
 "cells": [
  {
   "cell_type": "code",
   "execution_count": 1,
   "id": "8a2ebcad-3ddc-4231-a4cd-bd54f95572a9",
   "metadata": {},
   "outputs": [],
   "source": [
    "\n",
    "def count_letter_recur(strng, letter):\n",
    "    if not strng:\n",
    "        return 0\n",
    "    return (1 if strng[0] == letter else 0) + count_letter_recur( strng[1:], letter )"
   ]
  },
  {
   "cell_type": "code",
   "execution_count": 2,
   "id": "43908646-29cf-4351-8c99-81d51fcb42ff",
   "metadata": {},
   "outputs": [
    {
     "name": "stdin",
     "output_type": "stream",
     "text": [
      "Enter a string:  Thanks for watching that movie\n",
      "Enter the character to count:  a\n"
     ]
    },
    {
     "name": "stdout",
     "output_type": "stream",
     "text": [
      "The letter 'a' occurs 3 times in the string.\n",
      "\n"
     ]
    }
   ],
   "source": [
    "input_str = input(\"Enter a string: \")\n",
    "input_char = input(\"Enter the character to count: \")\n",
    "\n",
    "if len(input_char) != 1:\n",
    "    print(\"Please enter only one letter.\\n\")\n",
    "else:\n",
    "    count = count_letter_recur(input_str, input_char)\n",
    "    print(f\"The letter '{input_char}' occurs {count} times in the string.\\n\")"
   ]
  },
  {
   "cell_type": "code",
   "execution_count": null,
   "id": "e63fb346-1ff5-47b2-82b6-e9fa158b403a",
   "metadata": {},
   "outputs": [],
   "source": []
  }
 ],
 "metadata": {
  "kernelspec": {
   "display_name": "Python 3 (ipykernel)",
   "language": "python",
   "name": "python3"
  },
  "language_info": {
   "codemirror_mode": {
    "name": "ipython",
    "version": 3
   },
   "file_extension": ".py",
   "mimetype": "text/x-python",
   "name": "python",
   "nbconvert_exporter": "python",
   "pygments_lexer": "ipython3",
   "version": "3.11.4"
  }
 },
 "nbformat": 4,
 "nbformat_minor": 5
}
