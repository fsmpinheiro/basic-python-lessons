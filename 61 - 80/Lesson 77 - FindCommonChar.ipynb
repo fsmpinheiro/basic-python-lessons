{
 "cells": [
  {
   "cell_type": "code",
   "execution_count": 2,
   "id": "e2aea01a-efcb-4d98-bf22-2d2e63b2a0cc",
   "metadata": {},
   "outputs": [],
   "source": [
    "from collections import Counter\n",
    "\n",
    "def find_non_common_letter(str1, str2):\n",
    "    count1 = Counter(str1)\n",
    "    count2 = Counter(str2)\n",
    "\n",
    "    non_common_letters = (count1 - count2) + (count2 - count1)\n",
    "\n",
    "    result = []\n",
    "    for char, count in non_common_letters.items():\n",
    "        result.extend([char] * count)\n",
    "    return result"
   ]
  },
  {
   "cell_type": "code",
   "execution_count": 4,
   "id": "7c5cf8e8-5838-41ce-885b-cad54c1f1537",
   "metadata": {},
   "outputs": [
    {
     "name": "stdin",
     "output_type": "stream",
     "text": [
      "Enter the first string:  pyhton\n",
      "Enter the secnd string:  coding\n"
     ]
    },
    {
     "name": "stdout",
     "output_type": "stream",
     "text": [
      "Letters that are not common between the strings 'pyhton' and 'coding':\n",
      " ['p', 'y', 'h', 't', 'c', 'd', 'i', 'g']\n"
     ]
    }
   ],
   "source": [
    "inpt_strg1 = input(\"Enter the first string: \")\n",
    "inpt_strg2 = input(\"Enter the secnd string: \")\n",
    "\n",
    "non_common_letters = find_non_common_letter(inpt_strg1, inpt_strg2)\n",
    "\n",
    "print(f\"Letters that are not common between the strings '{inpt_strg1}' and '{inpt_strg2}':\\n {non_common_letters}\")"
   ]
  },
  {
   "cell_type": "code",
   "execution_count": null,
   "id": "d9953722-f34a-4e7d-8a44-8793fe94c300",
   "metadata": {},
   "outputs": [],
   "source": []
  }
 ],
 "metadata": {
  "kernelspec": {
   "display_name": "Python 3 (ipykernel)",
   "language": "python",
   "name": "python3"
  },
  "language_info": {
   "codemirror_mode": {
    "name": "ipython",
    "version": 3
   },
   "file_extension": ".py",
   "mimetype": "text/x-python",
   "name": "python",
   "nbconvert_exporter": "python",
   "pygments_lexer": "ipython3",
   "version": "3.11.4"
  }
 },
 "nbformat": 4,
 "nbformat_minor": 5
}
