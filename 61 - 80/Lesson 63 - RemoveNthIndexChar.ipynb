{
 "cells": [
  {
   "cell_type": "code",
   "execution_count": 1,
   "id": "c2656421-08d1-4d5e-94ed-197ac4ae032b",
   "metadata": {},
   "outputs": [],
   "source": [
    "\n",
    "def remove_nth_index_char(input_str, n):\n",
    "    if n < 0 or n >= len(input_str):\n",
    "        raise ValueError(\"Index n is out of range.\")\n",
    "    return input_str[:n] + input_str[n+1:]"
   ]
  },
  {
   "cell_type": "code",
   "execution_count": 2,
   "id": "3a8f4e05-e779-4e27-a9f8-fbda89c86a3f",
   "metadata": {},
   "outputs": [
    {
     "name": "stdin",
     "output_type": "stream",
     "text": [
      "Enter a non-empty string:  Girrafa\n",
      "Enter the index of the character to remove:  3\n"
     ]
    },
    {
     "name": "stdout",
     "output_type": "stream",
     "text": [
      "The input string after removing the nth index character: \n",
      " Girafa\n"
     ]
    }
   ],
   "source": [
    "if __name__ == \"__main__\":\n",
    "    input_str = input(\"Enter a non-empty string: \")\n",
    "    try:\n",
    "        n = int(input(\"Enter the index of the character to remove: \"))\n",
    "\n",
    "        result = remove_nth_index_char(input_str, n)\n",
    "        print(\"The input string after removing the nth index character: \\n\", result)\n",
    "    except ValueError as e:\n",
    "        print(\"Error: \", e)"
   ]
  },
  {
   "cell_type": "code",
   "execution_count": null,
   "id": "b6a00fed-16b9-415e-a1e6-5b6bc522c3e9",
   "metadata": {},
   "outputs": [],
   "source": []
  }
 ],
 "metadata": {
  "kernelspec": {
   "display_name": "Python 3 (ipykernel)",
   "language": "python",
   "name": "python3"
  },
  "language_info": {
   "codemirror_mode": {
    "name": "ipython",
    "version": 3
   },
   "file_extension": ".py",
   "mimetype": "text/x-python",
   "name": "python",
   "nbconvert_exporter": "python",
   "pygments_lexer": "ipython3",
   "version": "3.11.4"
  }
 },
 "nbformat": 4,
 "nbformat_minor": 5
}
