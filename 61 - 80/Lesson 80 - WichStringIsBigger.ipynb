{
 "cells": [
  {
   "cell_type": "code",
   "execution_count": 1,
   "id": "98574cdf-1c1a-4fa9-ae6e-365d537b624b",
   "metadata": {},
   "outputs": [],
   "source": [
    "\n",
    "def get_length(input_strg):\n",
    "    str_length = 0\n",
    "    for char in input_strg:\n",
    "        str_length += 1\n",
    "    return str_length\n",
    "\n",
    "def find_larger_string(in_str1, in_str2):\n",
    "    str_length1 = get_length(in_str1)\n",
    "    str_length2 = get_length(in_str2)\n",
    "\n",
    "    if str_length1 > str_length2:\n",
    "        return (1, in_str1)\n",
    "    elif str_length2 > str_length1:\n",
    "        return (2, in_str2)\n",
    "    else:\n",
    "        return (0, \"Both strings are of equal length.\")"
   ]
  },
  {
   "cell_type": "code",
   "execution_count": 3,
   "id": "c03b9542-268e-41fb-9601-59ade011ee60",
   "metadata": {},
   "outputs": [
    {
     "name": "stdin",
     "output_type": "stream",
     "text": [
      "Enter the first string:  python\n",
      "Enter the secnd string:  program\n"
     ]
    },
    {
     "name": "stdout",
     "output_type": "stream",
     "text": [
      "'program' is the larger string.\n"
     ]
    }
   ],
   "source": [
    "\n",
    "input_str1 = input(\"Enter the first string: \")\n",
    "input_str2 = input(\"Enter the secnd string: \")\n",
    "\n",
    "case, result =  find_larger_string(input_str1, input_str2)\n",
    "\n",
    "if (case == 1):\n",
    "    print (f\"'{result}' is the larger string.\")\n",
    "elif (case == 2):\n",
    "    print (f\"'{result}' is the larger string.\")\n",
    "elif (case == 0):\n",
    "    print (result)"
   ]
  },
  {
   "cell_type": "code",
   "execution_count": null,
   "id": "b8124203-ab26-421b-9963-3a6facb51366",
   "metadata": {},
   "outputs": [],
   "source": []
  }
 ],
 "metadata": {
  "kernelspec": {
   "display_name": "Python 3 (ipykernel)",
   "language": "python",
   "name": "python3"
  },
  "language_info": {
   "codemirror_mode": {
    "name": "ipython",
    "version": 3
   },
   "file_extension": ".py",
   "mimetype": "text/x-python",
   "name": "python",
   "nbconvert_exporter": "python",
   "pygments_lexer": "ipython3",
   "version": "3.11.4"
  }
 },
 "nbformat": 4,
 "nbformat_minor": 5
}
