{
 "cells": [
  {
   "cell_type": "code",
   "execution_count": 1,
   "id": "2837fa7e-1e9c-4d52-aa31-047e90c2a66a",
   "metadata": {},
   "outputs": [],
   "source": [
    "\n",
    "def replace_a_with_dollar(input_str):\n",
    "    result = input_str.replace('a', '$')\n",
    "    return result"
   ]
  },
  {
   "cell_type": "code",
   "execution_count": 3,
   "id": "4f26a945-a316-446e-af13-184343db905e",
   "metadata": {},
   "outputs": [
    {
     "name": "stdin",
     "output_type": "stream",
     "text": [
      "Enter a string:  a day in someone's life\n"
     ]
    },
    {
     "name": "stdout",
     "output_type": "stream",
     "text": [
      "Modified string:  $ d$y in someone's life\n"
     ]
    }
   ],
   "source": [
    "input_str = input(\"Enter a string: \")\n",
    "\n",
    "output_str = replace_a_with_dollar(input_str)\n",
    "print(\"Modified string: \", output_str)"
   ]
  },
  {
   "cell_type": "code",
   "execution_count": null,
   "id": "3c1049b7-113d-429b-8778-4abea27d6326",
   "metadata": {},
   "outputs": [],
   "source": []
  }
 ],
 "metadata": {
  "kernelspec": {
   "display_name": "Python 3 (ipykernel)",
   "language": "python",
   "name": "python3"
  },
  "language_info": {
   "codemirror_mode": {
    "name": "ipython",
    "version": 3
   },
   "file_extension": ".py",
   "mimetype": "text/x-python",
   "name": "python",
   "nbconvert_exporter": "python",
   "pygments_lexer": "ipython3",
   "version": "3.11.4"
  }
 },
 "nbformat": 4,
 "nbformat_minor": 5
}
