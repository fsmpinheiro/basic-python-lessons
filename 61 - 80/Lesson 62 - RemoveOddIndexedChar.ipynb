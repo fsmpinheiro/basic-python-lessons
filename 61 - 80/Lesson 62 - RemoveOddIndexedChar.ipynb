{
 "cells": [
  {
   "cell_type": "code",
   "execution_count": 1,
   "id": "6fe71e19-d572-4c20-90ce-82a4f0cd23c8",
   "metadata": {},
   "outputs": [],
   "source": [
    "\n",
    "def rmv_odd_idexdd_chars(input_string):\n",
    "    return input_string[::2]\n",
    "\n",
    "# The return here is a new string with chars \n",
    "# at odd indexes removed. "
   ]
  },
  {
   "cell_type": "code",
   "execution_count": 3,
   "id": "bb78c844-3911-49b6-be1d-fa95ab93f4a0",
   "metadata": {},
   "outputs": [
    {
     "name": "stdin",
     "output_type": "stream",
     "text": [
      "Enter a string:  Guarda_Chuvas\n"
     ]
    },
    {
     "name": "stdout",
     "output_type": "stream",
     "text": [
      "String after removing add indexed characters:  Gad_hvs\n"
     ]
    }
   ],
   "source": [
    "if __name__ == \"__main__\":\n",
    "    input_str = input(\"Enter a string: \")\n",
    "    result = rmv_odd_idexdd_chars(input_str)\n",
    "\n",
    "print(\"String after removing add indexed characters: \", result)"
   ]
  },
  {
   "cell_type": "code",
   "execution_count": null,
   "id": "32c2ab0b-c076-447e-be1f-6f292d08c7fa",
   "metadata": {},
   "outputs": [],
   "source": []
  }
 ],
 "metadata": {
  "kernelspec": {
   "display_name": "Python 3 (ipykernel)",
   "language": "python",
   "name": "python3"
  },
  "language_info": {
   "codemirror_mode": {
    "name": "ipython",
    "version": 3
   },
   "file_extension": ".py",
   "mimetype": "text/x-python",
   "name": "python",
   "nbconvert_exporter": "python",
   "pygments_lexer": "ipython3",
   "version": "3.11.4"
  }
 },
 "nbformat": 4,
 "nbformat_minor": 5
}
