{
 "cells": [
  {
   "cell_type": "code",
   "execution_count": 1,
   "id": "bf4d87b3-5c53-450d-9379-01284e21d7a3",
   "metadata": {},
   "outputs": [],
   "source": [
    "\n",
    "def count_digits_letters(input_string):\n",
    "    c_digits = 0\n",
    "    c_letters = 0\n",
    "\n",
    "    for char in input_string:\n",
    "        if char.isdigit():\n",
    "            c_digits += 1\n",
    "        elif char.isalpha():\n",
    "            c_letters += 1\n",
    "\n",
    "    return c_digits, c_letters"
   ]
  },
  {
   "cell_type": "code",
   "execution_count": 3,
   "id": "792347f7-5d94-422b-92ba-8663ea59d09f",
   "metadata": {},
   "outputs": [
    {
     "name": "stdin",
     "output_type": "stream",
     "text": [
      "Enter a string:  v3ry 1nters7in8\n"
     ]
    },
    {
     "name": "stdout",
     "output_type": "stream",
     "text": [
      "The count of digits returned: 4 \n",
      "The count of letters returned: 10\n"
     ]
    }
   ],
   "source": [
    "input_strg = input(\"Enter a string: \")\n",
    "\n",
    "n_digits, n_letters = count_digits_letters(input_strg)\n",
    "\n",
    "print(f\"The count of digits returned: {n_digits} \\nThe count of letters returned: {n_letters}\")"
   ]
  },
  {
   "cell_type": "code",
   "execution_count": null,
   "id": "8cfaae72-ebce-475c-906a-254adc4cf6ea",
   "metadata": {},
   "outputs": [],
   "source": []
  }
 ],
 "metadata": {
  "kernelspec": {
   "display_name": "Python 3 (ipykernel)",
   "language": "python",
   "name": "python3"
  },
  "language_info": {
   "codemirror_mode": {
    "name": "ipython",
    "version": 3
   },
   "file_extension": ".py",
   "mimetype": "text/x-python",
   "name": "python",
   "nbconvert_exporter": "python",
   "pygments_lexer": "ipython3",
   "version": "3.11.4"
  }
 },
 "nbformat": 4,
 "nbformat_minor": 5
}
