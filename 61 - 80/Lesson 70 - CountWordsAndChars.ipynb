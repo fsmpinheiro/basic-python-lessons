{
 "cells": [
  {
   "cell_type": "code",
   "execution_count": 1,
   "id": "21298d46-77cc-4897-862f-b3b03af481ff",
   "metadata": {},
   "outputs": [],
   "source": [
    "\n",
    "def count_words_and_chars(strg):\n",
    "    num_chars = len(strg)\n",
    "    \n",
    "    words = strg.split()\n",
    "    num_words = len(words)\n",
    "\n",
    "    return (num_words, num_chars)"
   ]
  },
  {
   "cell_type": "code",
   "execution_count": 4,
   "id": "39586d4b-ded6-4cf1-8874-ded48e5fdf3e",
   "metadata": {},
   "outputs": [
    {
     "name": "stdin",
     "output_type": "stream",
     "text": [
      "Enter a string:  I wish you have an excelent day\n"
     ]
    },
    {
     "name": "stdout",
     "output_type": "stream",
     "text": [
      "\n",
      "The number os words is: 7\n",
      "The number of characters (including spaces) is: 31\n",
      "\n"
     ]
    }
   ],
   "source": [
    "input_strg = input(\"Enter a string: \")\n",
    "\n",
    "num_words, num_chars = count_words_and_chars(input_strg)\n",
    "\n",
    "print(f\"\\nThe number os words is: {num_words}\")\n",
    "print(f\"The number of characters (including spaces) is: {num_chars}\\n\")"
   ]
  },
  {
   "cell_type": "code",
   "execution_count": null,
   "id": "b33d592e-8fcd-4cd4-a0a7-3b1a050b2067",
   "metadata": {},
   "outputs": [],
   "source": []
  }
 ],
 "metadata": {
  "kernelspec": {
   "display_name": "Python 3 (ipykernel)",
   "language": "python",
   "name": "python3"
  },
  "language_info": {
   "codemirror_mode": {
    "name": "ipython",
    "version": 3
   },
   "file_extension": ".py",
   "mimetype": "text/x-python",
   "name": "python",
   "nbconvert_exporter": "python",
   "pygments_lexer": "ipython3",
   "version": "3.11.4"
  }
 },
 "nbformat": 4,
 "nbformat_minor": 5
}
