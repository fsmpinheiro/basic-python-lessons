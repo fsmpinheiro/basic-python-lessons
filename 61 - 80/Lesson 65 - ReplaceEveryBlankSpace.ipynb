{
 "cells": [
  {
   "cell_type": "code",
   "execution_count": 1,
   "id": "b953aa29-134f-4bd3-a7ad-13297ab098c6",
   "metadata": {},
   "outputs": [
    {
     "name": "stdin",
     "output_type": "stream",
     "text": [
      "Enter a string:  have a good day\n"
     ]
    },
    {
     "name": "stdout",
     "output_type": "stream",
     "text": [
      "Modified string:  have-a-good-day\n"
     ]
    }
   ],
   "source": [
    "input_str = input(\"Enter a string: \")\n",
    "\n",
    "output_str = input_str.replace(\" \", \"-\")\n",
    "\n",
    "print(\"Modified string: \", output_str)"
   ]
  },
  {
   "cell_type": "code",
   "execution_count": null,
   "id": "b640c27b-2efa-42d7-9272-0fa29dc2db39",
   "metadata": {},
   "outputs": [],
   "source": []
  }
 ],
 "metadata": {
  "kernelspec": {
   "display_name": "Python 3 (ipykernel)",
   "language": "python",
   "name": "python3"
  },
  "language_info": {
   "codemirror_mode": {
    "name": "ipython",
    "version": 3
   },
   "file_extension": ".py",
   "mimetype": "text/x-python",
   "name": "python",
   "nbconvert_exporter": "python",
   "pygments_lexer": "ipython3",
   "version": "3.11.4"
  }
 },
 "nbformat": 4,
 "nbformat_minor": 5
}
