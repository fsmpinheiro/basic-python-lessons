{
 "cells": [
  {
   "cell_type": "code",
   "execution_count": 1,
   "id": "45581c54-0497-4792-906c-49fdc995438f",
   "metadata": {},
   "outputs": [],
   "source": [
    "\n",
    "def create_new_string(input_strg):\n",
    "    if len(input_strg) < 2:\n",
    "        return \"\"\n",
    "    return input_strg[:2] + input_strg[-2:]"
   ]
  },
  {
   "cell_type": "code",
   "execution_count": 2,
   "id": "a8a36977-e4b3-4570-acd9-67638bbcdf43",
   "metadata": {},
   "outputs": [
    {
     "name": "stdin",
     "output_type": "stream",
     "text": [
      "Enter a strin:  That python is great\n"
     ]
    },
    {
     "name": "stdout",
     "output_type": "stream",
     "text": [
      "New string:  That\n"
     ]
    }
   ],
   "source": [
    "\n",
    "input_strg = input(\"Enter a strin: \")\n",
    "\n",
    "result_str = create_new_string(input_strg)\n",
    "\n",
    "print(\"New string: \", result_str)"
   ]
  },
  {
   "cell_type": "code",
   "execution_count": null,
   "id": "b1fbf2bc-53a2-4da2-8990-b167ef768e54",
   "metadata": {},
   "outputs": [],
   "source": []
  }
 ],
 "metadata": {
  "kernelspec": {
   "display_name": "Python 3 (ipykernel)",
   "language": "python",
   "name": "python3"
  },
  "language_info": {
   "codemirror_mode": {
    "name": "ipython",
    "version": 3
   },
   "file_extension": ".py",
   "mimetype": "text/x-python",
   "name": "python",
   "nbconvert_exporter": "python",
   "pygments_lexer": "ipython3",
   "version": "3.11.4"
  }
 },
 "nbformat": 4,
 "nbformat_minor": 5
}
