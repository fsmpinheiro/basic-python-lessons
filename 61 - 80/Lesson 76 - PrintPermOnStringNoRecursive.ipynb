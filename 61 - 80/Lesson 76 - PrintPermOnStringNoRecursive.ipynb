{
 "cells": [
  {
   "cell_type": "code",
   "execution_count": 1,
   "id": "657813bf-8ea6-4691-8f8b-2092b213e4e2",
   "metadata": {},
   "outputs": [],
   "source": [
    "\n",
    "def next_permutations(s):\n",
    "    s = list(s)\n",
    "    n = len(s)\n",
    "    i = n - 2\n",
    "    while i >= 0 and s[i] >= s[i + 1]:\n",
    "        i -= 1\n",
    "    if i == -1:\n",
    "        return False\n",
    "    j = n - 1\n",
    "    while s[j] <= s[i]:\n",
    "        j -= 1\n",
    "\n",
    "    s[i], s[j] = s[j], s[i]\n",
    "\n",
    "    s = s[:i + 1] + s[i + 1:][::-1]\n",
    "    return ''.join(s)\n",
    "\n",
    "\n",
    "def permutations_in_lexicographic_order(string):\n",
    "    string = ''.join( sorted(string) )\n",
    "    print(string)\n",
    "\n",
    "    while True:\n",
    "        string = next_permutations(string)\n",
    "        if not string:\n",
    "            break\n",
    "        print(string)"
   ]
  },
  {
   "cell_type": "code",
   "execution_count": 2,
   "id": "879aa72d-ff4e-4c6a-a298-b48191694b57",
   "metadata": {},
   "outputs": [
    {
     "name": "stdin",
     "output_type": "stream",
     "text": [
      "Enter a string:  efdg\n"
     ]
    },
    {
     "name": "stdout",
     "output_type": "stream",
     "text": [
      "Permutation in lixecographic order: \n",
      "defg\n",
      "degf\n",
      "dfeg\n",
      "dfge\n",
      "dgef\n",
      "dgfe\n",
      "edfg\n",
      "edgf\n",
      "efdg\n",
      "efgd\n",
      "egdf\n",
      "egfd\n",
      "fdeg\n",
      "fdge\n",
      "fedg\n",
      "fegd\n",
      "fgde\n",
      "fged\n",
      "gdef\n",
      "gdfe\n",
      "gedf\n",
      "gefd\n",
      "gfde\n",
      "gfed\n"
     ]
    }
   ],
   "source": [
    "input_strg = input(\"Enter a string: \")\n",
    "print(\"Permutation in lixecographic order: \")\n",
    "permutations_in_lexicographic_order(input_strg)"
   ]
  },
  {
   "cell_type": "code",
   "execution_count": null,
   "id": "ca4677e3-8d79-4024-bfaa-8932932dd4f7",
   "metadata": {},
   "outputs": [],
   "source": []
  }
 ],
 "metadata": {
  "kernelspec": {
   "display_name": "Python 3 (ipykernel)",
   "language": "python",
   "name": "python3"
  },
  "language_info": {
   "codemirror_mode": {
    "name": "ipython",
    "version": 3
   },
   "file_extension": ".py",
   "mimetype": "text/x-python",
   "name": "python",
   "nbconvert_exporter": "python",
   "pygments_lexer": "ipython3",
   "version": "3.11.4"
  }
 },
 "nbformat": 4,
 "nbformat_minor": 5
}
