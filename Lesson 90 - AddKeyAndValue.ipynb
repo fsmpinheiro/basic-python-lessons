{
 "cells": [
  {
   "cell_type": "code",
   "execution_count": 1,
   "id": "2008bcab-4beb-4688-b920-27e59a8d8413",
   "metadata": {},
   "outputs": [],
   "source": [
    "\n",
    "def add_key_value(dictionary, key, value):\n",
    "    dictionary[key] = value\n",
    "    return dictionary\n",
    "\n",
    "# Adds a key-value pair to the dictionary\n",
    "# Args:\n",
    "#    dictionary (dict): TThe dictionary to update.\n",
    "#    key: The key to add.\n",
    "#    value: The value associated with the key.\n",
    "# Returns:\n",
    "#    dict: The updated dictionary"
   ]
  },
  {
   "cell_type": "code",
   "execution_count": 2,
   "id": "faabf598-5818-4eaa-b97e-cb582568dddb",
   "metadata": {},
   "outputs": [
    {
     "name": "stdout",
     "output_type": "stream",
     "text": [
      "Original dictionary:  {'name': 'Max', 'age': 25, 'city': 'Dheli'}\n"
     ]
    },
    {
     "name": "stdin",
     "output_type": "stream",
     "text": [
      "Enter the key to add:  country\n",
      "Enter the value to add:  India\n"
     ]
    },
    {
     "name": "stdout",
     "output_type": "stream",
     "text": [
      "Now the updated dictionary:  {'name': 'Max', 'age': 25, 'city': 'Dheli', 'country': 'India'}\n"
     ]
    }
   ],
   "source": [
    "my_dict = {\"name\": \"Max\", \"age\": 25, \"city\": \"Dheli\"}\n",
    "print(\"Original dictionary: \", my_dict)\n",
    "\n",
    "key_to_add = input(\"Enter the key to add: \")\n",
    "val_to_add = input(\"Enter the value to add: \")\n",
    "\n",
    "updated_dic = add_key_value(my_dict, key_to_add, val_to_add)\n",
    "print(\"Now the updated dictionary: \", updated_dic)"
   ]
  },
  {
   "cell_type": "code",
   "execution_count": null,
   "id": "bbd7cd16-4e1f-4de8-8411-d9c3995e7e33",
   "metadata": {},
   "outputs": [],
   "source": []
  }
 ],
 "metadata": {
  "kernelspec": {
   "display_name": "Python 3 (ipykernel)",
   "language": "python",
   "name": "python3"
  },
  "language_info": {
   "codemirror_mode": {
    "name": "ipython",
    "version": 3
   },
   "file_extension": ".py",
   "mimetype": "text/x-python",
   "name": "python",
   "nbconvert_exporter": "python",
   "pygments_lexer": "ipython3",
   "version": "3.11.4"
  }
 },
 "nbformat": 4,
 "nbformat_minor": 5
}
