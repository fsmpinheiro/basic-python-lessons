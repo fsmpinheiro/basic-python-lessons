{
 "cells": [
  {
   "cell_type": "code",
   "execution_count": 1,
   "id": "e814399c-8987-4d31-a794-1707a07f64f0",
   "metadata": {},
   "outputs": [],
   "source": [
    "\n",
    "def clear_rightmost_set_bit(n):\n",
    "    \"\"\"\n",
    "    :param n: The input number\n",
    "    :return: The number with the rightmost set bit cleared\n",
    "    \"\"\" \n",
    "    return n & (n - 1)  "
   ]
  },
  {
   "cell_type": "code",
   "execution_count": 2,
   "id": "47e77578-fcc0-4332-adff-8f7b262f9757",
   "metadata": {},
   "outputs": [
    {
     "name": "stdin",
     "output_type": "stream",
     "text": [
      "Enter a non-negative integer:  12\n"
     ]
    },
    {
     "name": "stdout",
     "output_type": "stream",
     "text": [
      "Input number: 12  (Its Binary: 0b1100)\n",
      "Number after clearing rightmost set bit: 8 (Its Binary: 0b1000)\n"
     ]
    }
   ],
   "source": [
    "num = int(input(\"Enter a non-negative integer: \"))\n",
    "\n",
    "result = clear_rightmost_set_bit(num)\n",
    "\n",
    "print(f\"Input number: {num}  (Its Binary: {bin(num)})\")\n",
    "print(f\"Number after clearing rightmost set bit: {result} (Its Binary: {bin(result)})\")\n"
   ]
  },
  {
   "cell_type": "code",
   "execution_count": null,
   "id": "43346a50-f479-422e-8964-8ca0e0cdccec",
   "metadata": {},
   "outputs": [],
   "source": []
  }
 ],
 "metadata": {
  "kernelspec": {
   "display_name": "Python 3 (ipykernel)",
   "language": "python",
   "name": "python3"
  },
  "language_info": {
   "codemirror_mode": {
    "name": "ipython",
    "version": 3
   },
   "file_extension": ".py",
   "mimetype": "text/x-python",
   "name": "python",
   "nbconvert_exporter": "python",
   "pygments_lexer": "ipython3",
   "version": "3.11.4"
  }
 },
 "nbformat": 4,
 "nbformat_minor": 5
}
