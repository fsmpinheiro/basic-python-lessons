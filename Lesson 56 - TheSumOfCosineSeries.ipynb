{
 "cells": [
  {
   "cell_type": "code",
   "execution_count": 1,
   "id": "da9eefbe-687e-43f4-894b-4b76dc713acc",
   "metadata": {},
   "outputs": [],
   "source": [
    "# traditional factorial calculation\n",
    "def fatorial(n):\n",
    "    if n == 0 or n == 1:\n",
    "        return n\n",
    "    return n * fatorial(n - 1)\n",
    "\n",
    "\n",
    "# loop factorial calculation, whitout wait\n",
    "def factorialScaled(m, n):\n",
    "    if n < 2:\n",
    "        return (m * 1)\n",
    "    return factorialScaled( (n * m), (n - 1) )"
   ]
  },
  {
   "cell_type": "code",
   "execution_count": 2,
   "id": "d71f58bd-be6d-46cc-aa05-0fe3b3744e54",
   "metadata": {},
   "outputs": [],
   "source": [
    "# Calculate the sum of the cosine series up to n terms for a given x.\n",
    "def cosine_series(x, n):\n",
    "    cosine_sum = 0\n",
    "    sign = 1\n",
    "\n",
    "    for i in range(n):\n",
    "        term = sign * (x ** (2 * i)) / factorialScaled( 1, (2 * i) )\n",
    "        cosine_sum += term\n",
    "        sign *= -1\n",
    "    \n",
    "    return cosine_sum "
   ]
  },
  {
   "cell_type": "code",
   "execution_count": 3,
   "id": "e8a96ee6-be3b-4f2d-999f-04e3f44f632a",
   "metadata": {},
   "outputs": [
    {
     "name": "stdin",
     "output_type": "stream",
     "text": [
      "Enter the value of x (in radians):  60\n",
      "Enter the number of terms in the series:  40\n"
     ]
    },
    {
     "name": "stdout",
     "output_type": "stream",
     "text": [
      "The sum of the cosine series up to 40 term for x = 60.0 is: -1.609278572613977e+23\n"
     ]
    }
   ],
   "source": [
    "x = float(input(\"Enter the value of x (in radians): \"))\n",
    "\n",
    "n = int(input(\"Enter the number of terms in the series: \"))\n",
    "\n",
    "result = cosine_series(x, n)\n",
    "\n",
    "print(f\"The sum of the cosine series up to {n} term for x = {x} is: {result}\")"
   ]
  }
 ],
 "metadata": {
  "kernelspec": {
   "display_name": "Python 3 (ipykernel)",
   "language": "python",
   "name": "python3"
  },
  "language_info": {
   "codemirror_mode": {
    "name": "ipython",
    "version": 3
   },
   "file_extension": ".py",
   "mimetype": "text/x-python",
   "name": "python",
   "nbconvert_exporter": "python",
   "pygments_lexer": "ipython3",
   "version": "3.11.4"
  }
 },
 "nbformat": 4,
 "nbformat_minor": 5
}
