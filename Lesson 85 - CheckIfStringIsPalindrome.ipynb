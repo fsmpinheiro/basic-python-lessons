{
 "cells": [
  {
   "cell_type": "code",
   "execution_count": 1,
   "id": "ff8526fc-e64f-4da4-9087-6a36a6b3cbfa",
   "metadata": {},
   "outputs": [],
   "source": [
    "\n",
    "def is_palindrome(strg):\n",
    "    strg = strg.replace(\" \", \"\").lower()\n",
    "    return strg == strg[::-1]"
   ]
  },
  {
   "cell_type": "code",
   "execution_count": 3,
   "id": "bbe730cd-d9d1-406a-a17d-5b0d7620b895",
   "metadata": {},
   "outputs": [
    {
     "name": "stdin",
     "output_type": "stream",
     "text": [
      "Enter a string:  A sacada da casa\n"
     ]
    },
    {
     "name": "stdout",
     "output_type": "stream",
     "text": [
      "Great, \"A sacada da casa\" is a palindrome!\n"
     ]
    }
   ],
   "source": [
    "\n",
    "input_strg = input(\"Enter a string: \")\n",
    "\n",
    "if is_palindrome(input_strg):\n",
    "    print(f'Great, \"{input_strg}\" is a palindrome!')\n",
    "else:\n",
    "    print(f'Ah sorry, \"{input_strg}\" is not a palindrome.')"
   ]
  },
  {
   "cell_type": "code",
   "execution_count": null,
   "id": "595caa7a-190c-43df-a381-27f8d7cb22b7",
   "metadata": {},
   "outputs": [],
   "source": []
  }
 ],
 "metadata": {
  "kernelspec": {
   "display_name": "Python 3 (ipykernel)",
   "language": "python",
   "name": "python3"
  },
  "language_info": {
   "codemirror_mode": {
    "name": "ipython",
    "version": 3
   },
   "file_extension": ".py",
   "mimetype": "text/x-python",
   "name": "python",
   "nbconvert_exporter": "python",
   "pygments_lexer": "ipython3",
   "version": "3.11.4"
  }
 },
 "nbformat": 4,
 "nbformat_minor": 5
}
