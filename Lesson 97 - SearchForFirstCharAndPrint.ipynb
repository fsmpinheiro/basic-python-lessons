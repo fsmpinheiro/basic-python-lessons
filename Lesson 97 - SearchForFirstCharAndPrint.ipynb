{
 "cells": [
  {
   "cell_type": "code",
   "execution_count": 1,
   "id": "c44a5884-d1a7-4458-ae84-beabfdb22bb2",
   "metadata": {},
   "outputs": [
    {
     "name": "stdout",
     "output_type": "stream",
     "text": [
      "Dictionary with first character as key:  {'a': ['apple', 'avocado', 'apricot'], 'b': ['banana', 'berry'], 'c': ['cherry']}\n"
     ]
    }
   ],
   "source": [
    "\n",
    "words = ['apple', 'banana', 'avocado', 'berry', 'cherry', 'apricot']\n",
    "\n",
    "word_dict = {}\n",
    "\n",
    "for word in words:\n",
    "    first_char = word[0].lower()\n",
    "    if first_char in word_dict:\n",
    "        word_dict[first_char].append(word)\n",
    "    else:\n",
    "        word_dict[first_char] = [word]\n",
    "\n",
    "print(\"Dictionary with first character as key: \", word_dict)"
   ]
  },
  {
   "cell_type": "code",
   "execution_count": null,
   "id": "1fd9dcec-b2d7-45f9-a202-a5bc02624414",
   "metadata": {},
   "outputs": [],
   "source": []
  }
 ],
 "metadata": {
  "kernelspec": {
   "display_name": "Python 3 (ipykernel)",
   "language": "python",
   "name": "python3"
  },
  "language_info": {
   "codemirror_mode": {
    "name": "ipython",
    "version": 3
   },
   "file_extension": ".py",
   "mimetype": "text/x-python",
   "name": "python",
   "nbconvert_exporter": "python",
   "pygments_lexer": "ipython3",
   "version": "3.11.4"
  }
 },
 "nbformat": 4,
 "nbformat_minor": 5
}
