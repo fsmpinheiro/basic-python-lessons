{
 "cells": [
  {
   "cell_type": "code",
   "execution_count": 1,
   "id": "eaa3f4f9-1c18-4efd-b239-2963a64dc6f3",
   "metadata": {},
   "outputs": [],
   "source": [
    "\n",
    "def factorial(num):\n",
    "    result = 1\n",
    "    for i in range(1, num+ 1):\n",
    "        result *= i\n",
    "\n",
    "    return result"
   ]
  },
  {
   "cell_type": "code",
   "execution_count": 2,
   "id": "72d52092-7b3b-4e0f-8172-668e8554107f",
   "metadata": {},
   "outputs": [
    {
     "name": "stdin",
     "output_type": "stream",
     "text": [
      "Enter a number to find its factorial:  6\n"
     ]
    },
    {
     "name": "stdout",
     "output_type": "stream",
     "text": [
      "The factorial of 6 is: 720.\n",
      "\n"
     ]
    }
   ],
   "source": [
    "num = int(input(\"Enter a number to find its factorial: \"))\n",
    "\n",
    "print(f\"The factorial of {num} is: {factorial(num)}.\\n\")"
   ]
  },
  {
   "cell_type": "code",
   "execution_count": null,
   "id": "d7d4df7c-ab88-4062-83a0-c1ad18569252",
   "metadata": {},
   "outputs": [],
   "source": []
  }
 ],
 "metadata": {
  "kernelspec": {
   "display_name": "Python 3 (ipykernel)",
   "language": "python",
   "name": "python3"
  },
  "language_info": {
   "codemirror_mode": {
    "name": "ipython",
    "version": 3
   },
   "file_extension": ".py",
   "mimetype": "text/x-python",
   "name": "python",
   "nbconvert_exporter": "python",
   "pygments_lexer": "ipython3",
   "version": "3.11.4"
  }
 },
 "nbformat": 4,
 "nbformat_minor": 5
}
