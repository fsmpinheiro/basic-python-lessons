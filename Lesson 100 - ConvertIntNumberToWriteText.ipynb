{
 "cells": [
  {
   "cell_type": "code",
   "execution_count": 1,
   "id": "42f666b3-c43d-4111-88b9-e80ed36d326c",
   "metadata": {},
   "outputs": [],
   "source": [
    "\n",
    "def build_dict(keys, values):\n",
    "    mapped_dict = dict(zip(keys, values))\n",
    "    return mapped_dict\n",
    "\n",
    "def convert_number_to_string(numbr, dictionary):\n",
    "    numbr_to_str = []\n",
    "\n",
    "    while (numbr > 0):\n",
    "        digit = numbr % 10\n",
    "        for key, value in dictionary.items():\n",
    "            if key == digit:\n",
    "                numbr_to_str.insert(0, value)\n",
    "            \n",
    "        numbr = numbr // 10\n",
    "\n",
    "    final_str = ' '.join(numbr_to_str)\n",
    "    return final_str\n"
   ]
  },
  {
   "cell_type": "code",
   "execution_count": 3,
   "id": "57790b63-680c-4198-b4f2-636e69bea5e0",
   "metadata": {},
   "outputs": [
    {
     "name": "stdin",
     "output_type": "stream",
     "text": [
      "Enter a number, and I'll convert it to string: \n",
      " 998113595\n"
     ]
    },
    {
     "name": "stdout",
     "output_type": "stream",
     "text": [
      "The number in english: nine nine eight one one three five nine five\n",
      "\n",
      "O número informado em portugês: nove nove oito um um três cinco nove cinco\n",
      "\n"
     ]
    }
   ],
   "source": [
    "lst_nums = [0,1,2,3,4,5,6,7,8,9]\n",
    "\n",
    "lst_strs_pt = ['zero','um','dois','três','quatro','cinco','seis','sete','oito','nove']\n",
    "lst_strs_en = ['zero','one','two','three','four','five','six','seven','eight','nine']\n",
    "\n",
    "eng_dict = build_dict(lst_nums, lst_strs_en)\n",
    "pt_dict = build_dict(lst_nums, lst_strs_pt)\n",
    "\n",
    "# print(\"Mapped Dictionary in english:\\n\", eng_dict)\n",
    "# print(\"Mapped Dictionary in portuguese:\\n\", pt_dict)\n",
    "\n",
    "numbr = int(input(\"Enter a number, and I'll convert it to string: \\n\"))\n",
    "\n",
    "convrtd_eng = convert_number_to_string(numbr, eng_dict)\n",
    "convrtd_ptb = convert_number_to_string(numbr, pt_dict)\n",
    "\n",
    "print(f\"The number in english: {convrtd_eng}\\n\")\n",
    "print(f\"O número informado em portugês: {convrtd_ptb}\\n\")"
   ]
  },
  {
   "cell_type": "code",
   "execution_count": null,
   "id": "88ff8129-cf94-4c2a-83a9-a3d813af8ee1",
   "metadata": {},
   "outputs": [],
   "source": []
  },
  {
   "cell_type": "code",
   "execution_count": null,
   "id": "e71e845f-a4b4-4409-afb7-281127ab5c6c",
   "metadata": {},
   "outputs": [],
   "source": []
  }
 ],
 "metadata": {
  "kernelspec": {
   "display_name": "Python 3 (ipykernel)",
   "language": "python",
   "name": "python3"
  },
  "language_info": {
   "codemirror_mode": {
    "name": "ipython",
    "version": 3
   },
   "file_extension": ".py",
   "mimetype": "text/x-python",
   "name": "python",
   "nbconvert_exporter": "python",
   "pygments_lexer": "ipython3",
   "version": "3.11.4"
  }
 },
 "nbformat": 4,
 "nbformat_minor": 5
}
