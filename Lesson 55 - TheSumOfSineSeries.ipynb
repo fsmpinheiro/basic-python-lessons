{
 "cells": [
  {
   "cell_type": "code",
   "execution_count": 4,
   "id": "1c2805fd-b7c0-4081-a6f7-24b15f2575b2",
   "metadata": {},
   "outputs": [],
   "source": [
    "import  math\n",
    "\n",
    "def fatorial(n):\n",
    "    if n == 0 or n == 1:\n",
    "        return n\n",
    "    return n * fatorial(n - 1)\n",
    "\n",
    "\n",
    "def sine_series(x, terms):\n",
    "    sine_sum = 0\n",
    "    for i in range(terms):\n",
    "        power = 2 * i + 1\n",
    "        sign = (-1) ** i\n",
    "        term = sign * ( x ** power ) / fatorial(power)\n",
    "        sine_sum += term\n",
    "    return sine_sum"
   ]
  },
  {
   "cell_type": "code",
   "execution_count": 2,
   "id": "7bac36a0-ef7c-43ae-9a3a-7bb6ce81828e",
   "metadata": {},
   "outputs": [
    {
     "name": "stdin",
     "output_type": "stream",
     "text": [
      "Enter the angle in degrees:  90\n",
      "Enter the number of terms:  5\n"
     ]
    },
    {
     "name": "stdout",
     "output_type": "stream",
     "text": [
      "The sum of the sine series for 90.0° is: 1.0000035425842861\n"
     ]
    }
   ],
   "source": [
    "\n",
    "angle_degrees = float(input(\"Enter the angle in degrees: \"))\n",
    "terms = int(input(\"Enter the number of terms: \"))\n",
    "\n",
    "angle_radians = math.radians(angle_degrees)\n",
    "\n",
    "sine_sum = sine_series(angle_radians, terms)\n",
    "\n",
    "print(f\"The sum of the sine series for {angle_degrees}° is: {sine_sum}\")"
   ]
  },
  {
   "cell_type": "code",
   "execution_count": null,
   "id": "4cf907e5-cbac-46f5-80c4-7b110cf5c0bd",
   "metadata": {},
   "outputs": [],
   "source": []
  }
 ],
 "metadata": {
  "kernelspec": {
   "display_name": "Python 3 (ipykernel)",
   "language": "python",
   "name": "python3"
  },
  "language_info": {
   "codemirror_mode": {
    "name": "ipython",
    "version": 3
   },
   "file_extension": ".py",
   "mimetype": "text/x-python",
   "name": "python",
   "nbconvert_exporter": "python",
   "pygments_lexer": "ipython3",
   "version": "3.11.4"
  }
 },
 "nbformat": 4,
 "nbformat_minor": 5
}
