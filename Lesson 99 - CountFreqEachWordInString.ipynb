{
 "cells": [
  {
   "cell_type": "code",
   "execution_count": 1,
   "id": "a48da4f5-6996-4469-89ae-f495f67adfe5",
   "metadata": {},
   "outputs": [],
   "source": [
    "\n",
    "def count_word_frequency(input_strng):\n",
    "\n",
    "    words = input_strng.split()\n",
    "    word_count = {}\n",
    "\n",
    "    for word in words:\n",
    "        word = word.lower()\n",
    "        if word in word_count:\n",
    "            word_count[word] += 1\n",
    "        else:\n",
    "            word_count[word] = 1\n",
    "    \n",
    "    return word_count"
   ]
  },
  {
   "cell_type": "code",
   "execution_count": 2,
   "id": "d2776071-7278-4bbe-ab12-4e4959dff6de",
   "metadata": {},
   "outputs": [
    {
     "name": "stdin",
     "output_type": "stream",
     "text": [
      "Enter a string:  python is Very FUN, yes if it is Python, it's Fun\n"
     ]
    },
    {
     "name": "stdout",
     "output_type": "stream",
     "text": [
      "\n",
      "Words frequency list:\n",
      "'python': 1\n",
      "'is': 2\n",
      "'very': 1\n",
      "'fun,': 1\n",
      "'yes': 1\n",
      "'if': 1\n",
      "'it': 1\n",
      "'python,': 1\n",
      "'it's': 1\n",
      "'fun': 1\n"
     ]
    }
   ],
   "source": [
    "input_strg = input(\"Enter a string: \")\n",
    "\n",
    "word_frequency = count_word_frequency(input_strg)\n",
    "\n",
    "print(\"\\nWords frequency list:\")\n",
    "for word, count in word_frequency.items():\n",
    "    print(f\"'{word}': {count}\")"
   ]
  },
  {
   "cell_type": "code",
   "execution_count": null,
   "id": "1a875fe0-e409-4e89-be02-9d7440776e86",
   "metadata": {},
   "outputs": [],
   "source": []
  }
 ],
 "metadata": {
  "kernelspec": {
   "display_name": "Python 3 (ipykernel)",
   "language": "python",
   "name": "python3"
  },
  "language_info": {
   "codemirror_mode": {
    "name": "ipython",
    "version": 3
   },
   "file_extension": ".py",
   "mimetype": "text/x-python",
   "name": "python",
   "nbconvert_exporter": "python",
   "pygments_lexer": "ipython3",
   "version": "3.11.4"
  }
 },
 "nbformat": 4,
 "nbformat_minor": 5
}
