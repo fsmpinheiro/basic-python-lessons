{
 "cells": [
  {
   "cell_type": "code",
   "execution_count": 1,
   "id": "4c60362a-3725-4681-a9c5-21f5cb4909ff",
   "metadata": {},
   "outputs": [],
   "source": [
    "\n",
    "def print_odds(start, end):\n",
    "    list = []\n",
    "    for num in range(start, end + 1 ):\n",
    "        if num % 2 != 0:\n",
    "            list.append(num)\n",
    "    return list"
   ]
  },
  {
   "cell_type": "code",
   "execution_count": 9,
   "id": "ac68d42f-5c86-4165-860a-e1bcf940724d",
   "metadata": {},
   "outputs": [
    {
     "name": "stdin",
     "output_type": "stream",
     "text": [
      "Enter the start of the range:  3\n",
      "Enter the end of the range:  9\n"
     ]
    },
    {
     "name": "stdout",
     "output_type": "stream",
     "text": [
      "\n",
      "This the list of odd numbers between 3 and 9: \n",
      "[3, 5, 7, 9]\n"
     ]
    }
   ],
   "source": [
    "start = int(input(\"Enter the start of the range: \"))\n",
    "end   = int(input(\"Enter the end of the range: \"))\n",
    "\n",
    "print(f\"\\nThis the list of odd numbers between {start} and {end}: \")\n",
    "print(print_odds(start, end))"
   ]
  },
  {
   "cell_type": "code",
   "execution_count": null,
   "id": "63af8284-6a91-4754-87d9-a5a0a9731e84",
   "metadata": {},
   "outputs": [],
   "source": []
  },
  {
   "cell_type": "code",
   "execution_count": null,
   "id": "ee8d9378-0d2c-4273-b82d-a7ee77a0eef6",
   "metadata": {},
   "outputs": [],
   "source": []
  }
 ],
 "metadata": {
  "kernelspec": {
   "display_name": "Python 3 (ipykernel)",
   "language": "python",
   "name": "python3"
  },
  "language_info": {
   "codemirror_mode": {
    "name": "ipython",
    "version": 3
   },
   "file_extension": ".py",
   "mimetype": "text/x-python",
   "name": "python",
   "nbconvert_exporter": "python",
   "pygments_lexer": "ipython3",
   "version": "3.11.4"
  }
 },
 "nbformat": 4,
 "nbformat_minor": 5
}
