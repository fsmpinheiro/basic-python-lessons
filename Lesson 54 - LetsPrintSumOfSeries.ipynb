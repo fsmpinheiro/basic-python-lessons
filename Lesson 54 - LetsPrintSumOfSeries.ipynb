{
 "cells": [
  {
   "cell_type": "code",
   "execution_count": 2,
   "id": "818f095e-ab03-43d8-bf80-9e26af10fe73",
   "metadata": {},
   "outputs": [
    {
     "name": "stdin",
     "output_type": "stream",
     "text": [
      "Enter a number:  21\n"
     ]
    },
    {
     "name": "stdout",
     "output_type": "stream",
     "text": [
      "1 + 2 + 3 + 4 + 5 + 6 + 7 + 8 + 9 + 10 + 11 + 12 + 13 + 14 + 15 + 16 + 17 + 18 + 19 + 20 + 21 = 231\n"
     ]
    }
   ],
   "source": [
    "\n",
    "n = int(input(\"Enter a number: \"))\n",
    "\n",
    "series = \" + \".join(str(i) for i in range(1, n + 1))\n",
    "total_sum = sum(range(1, n + 1))\n",
    "\n",
    "print(f\"{series} = {total_sum}\")"
   ]
  },
  {
   "cell_type": "code",
   "execution_count": null,
   "id": "cd6d1b91-ce38-4d6f-b124-d8f3b4ec4b6b",
   "metadata": {},
   "outputs": [],
   "source": []
  }
 ],
 "metadata": {
  "kernelspec": {
   "display_name": "Python 3 (ipykernel)",
   "language": "python",
   "name": "python3"
  },
  "language_info": {
   "codemirror_mode": {
    "name": "ipython",
    "version": 3
   },
   "file_extension": ".py",
   "mimetype": "text/x-python",
   "name": "python",
   "nbconvert_exporter": "python",
   "pygments_lexer": "ipython3",
   "version": "3.11.4"
  }
 },
 "nbformat": 4,
 "nbformat_minor": 5
}
