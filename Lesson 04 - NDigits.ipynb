{
 "cells": [
  {
   "cell_type": "code",
   "execution_count": null,
   "id": "e48a35b8-3f06-4d9a-96ef-52865601816c",
   "metadata": {},
   "outputs": [],
   "source": [
    "\n",
    "number = int(input(\"Enter a number: \"))\n",
    "count = 0\n",
    "\n",
    "if number == 0:\n",
    "    count = 1\n",
    "else:\n",
    "    if number < 0:\n",
    "        number = -number\n",
    "\n",
    "    while number > 0:\n",
    "        count += 1\n",
    "        number "
   ]
  }
 ],
 "metadata": {
  "kernelspec": {
   "display_name": "Python 3 (ipykernel)",
   "language": "python",
   "name": "python3"
  },
  "language_info": {
   "codemirror_mode": {
    "name": "ipython",
    "version": 3
   },
   "file_extension": ".py",
   "mimetype": "text/x-python",
   "name": "python",
   "nbconvert_exporter": "python",
   "pygments_lexer": "ipython3",
   "version": "3.11.0"
  }
 },
 "nbformat": 4,
 "nbformat_minor": 5
}
