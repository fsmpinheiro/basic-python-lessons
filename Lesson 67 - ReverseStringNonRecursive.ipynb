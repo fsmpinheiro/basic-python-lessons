{
 "cells": [
  {
   "cell_type": "code",
   "execution_count": 1,
   "id": "04e06308-50a3-49fb-9d40-8da245315ec6",
   "metadata": {},
   "outputs": [],
   "source": [
    "\n",
    "def reverse_str(strng):\n",
    "    return strng[::-1]\n",
    "\n",
    "#  s[::-1]: This uses Python's slicing syntax to reverse the string:\n",
    "#  s[start:end:step]: A slice of the string s is created with the given start, end, and step values.\n",
    "#  :: without specifying start and end means to consider the entire string.\n",
    "#  -1 as the step value means to traverse the string from the end to the beginning, effectively reversing it.\n",
    "#  Then the reversed string is then returned by the function"
   ]
  },
  {
   "cell_type": "code",
   "execution_count": 2,
   "id": "69db446a-418e-4790-a0cb-eaa261ff3698",
   "metadata": {},
   "outputs": [
    {
     "name": "stdin",
     "output_type": "stream",
     "text": [
      "Enter a string:  Banana\n"
     ]
    },
    {
     "name": "stdout",
     "output_type": "stream",
     "text": [
      "Reversed string:  ananaB\n"
     ]
    }
   ],
   "source": [
    "input_str = input(\"Enter a string: \")\n",
    "\n",
    "result_str = reverse_str(input_str)\n",
    "\n",
    "print(\"Reversed string: \", result_str)"
   ]
  },
  {
   "cell_type": "code",
   "execution_count": null,
   "id": "95b90b06-32b4-4456-8716-ccf9d26c91ef",
   "metadata": {},
   "outputs": [],
   "source": []
  }
 ],
 "metadata": {
  "kernelspec": {
   "display_name": "Python 3 (ipykernel)",
   "language": "python",
   "name": "python3"
  },
  "language_info": {
   "codemirror_mode": {
    "name": "ipython",
    "version": 3
   },
   "file_extension": ".py",
   "mimetype": "text/x-python",
   "name": "python",
   "nbconvert_exporter": "python",
   "pygments_lexer": "ipython3",
   "version": "3.11.4"
  }
 },
 "nbformat": 4,
 "nbformat_minor": 5
}
