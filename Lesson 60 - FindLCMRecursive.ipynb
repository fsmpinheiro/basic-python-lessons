{
 "cells": [
  {
   "cell_type": "code",
   "execution_count": 1,
   "id": "c3cfb3bc-da04-4451-b481-2b4780deee36",
   "metadata": {},
   "outputs": [],
   "source": [
    "\n",
    "def find_lcm(a, b):\n",
    "    def find_gcd(a, b):\n",
    "        if b == 0:\n",
    "            return a\n",
    "        else:\n",
    "            return find_gcd(b, a % b)\n",
    "    return ( abs( a * b ) // find_gcd(a, b) )  "
   ]
  },
  {
   "cell_type": "code",
   "execution_count": 3,
   "id": "91a3bb27-7ee3-4e1e-8e4a-9707c87bd886",
   "metadata": {},
   "outputs": [
    {
     "name": "stdin",
     "output_type": "stream",
     "text": [
      "Enter the first number:  52\n",
      "Enter the second number:  100\n"
     ]
    },
    {
     "name": "stdout",
     "output_type": "stream",
     "text": [
      "The LCM of 52 and 100 is 1300.\n",
      "\n"
     ]
    }
   ],
   "source": [
    "n1 = int(input(\"Enter the first number: \"))\n",
    "n2 = int(input(\"Enter the second number: \"))\n",
    "\n",
    "lcm = find_lcm(n1, n2)\n",
    "\n",
    "print(f\"The LCM of {n1} and {n2} is {lcm}.\\n\")"
   ]
  },
  {
   "cell_type": "code",
   "execution_count": null,
   "id": "cd88c8bd-aa65-463f-a77a-c0ec91b3bd97",
   "metadata": {},
   "outputs": [],
   "source": []
  }
 ],
 "metadata": {
  "kernelspec": {
   "display_name": "Python 3 (ipykernel)",
   "language": "python",
   "name": "python3"
  },
  "language_info": {
   "codemirror_mode": {
    "name": "ipython",
    "version": 3
   },
   "file_extension": ".py",
   "mimetype": "text/x-python",
   "name": "python",
   "nbconvert_exporter": "python",
   "pygments_lexer": "ipython3",
   "version": "3.11.4"
  }
 },
 "nbformat": 4,
 "nbformat_minor": 5
}
