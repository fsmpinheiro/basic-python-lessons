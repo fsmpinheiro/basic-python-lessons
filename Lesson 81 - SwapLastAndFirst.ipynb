{
 "cells": [
  {
   "cell_type": "code",
   "execution_count": 1,
   "id": "fcbc53e7-ce70-43cd-9aa6-3c783822d5b5",
   "metadata": {},
   "outputs": [],
   "source": [
    "\n",
    "def swap_first_last_char(inpt_strg):\n",
    "    if len(inpt_strg) <= 1:\n",
    "        return inpt_strg\n",
    "    swapped_strg = inpt_strg[-1] + inpt_strg[1:-1] + inpt_strg[0]\n",
    "    return swapped_strg"
   ]
  },
  {
   "cell_type": "code",
   "execution_count": 2,
   "id": "b4ab791c-b3c7-4d14-8d12-b4ff58ed11f1",
   "metadata": {},
   "outputs": [
    {
     "name": "stdin",
     "output_type": "stream",
     "text": [
      "Enter a string:  Algorithms\n"
     ]
    },
    {
     "name": "stdout",
     "output_type": "stream",
     "text": [
      "The string after swapping the first and last char: slgorithmA\n"
     ]
    }
   ],
   "source": [
    "input_strg = input(\"Enter a string: \")\n",
    "\n",
    "result = swap_first_last_char(input_strg)\n",
    "\n",
    "print(f\"The string after swapping the first and last char: {result}\")"
   ]
  },
  {
   "cell_type": "code",
   "execution_count": null,
   "id": "997dd987-da8d-4a15-ab83-13d1c0a34c48",
   "metadata": {},
   "outputs": [],
   "source": []
  }
 ],
 "metadata": {
  "kernelspec": {
   "display_name": "Python 3 (ipykernel)",
   "language": "python",
   "name": "python3"
  },
  "language_info": {
   "codemirror_mode": {
    "name": "ipython",
    "version": 3
   },
   "file_extension": ".py",
   "mimetype": "text/x-python",
   "name": "python",
   "nbconvert_exporter": "python",
   "pygments_lexer": "ipython3",
   "version": "3.11.4"
  }
 },
 "nbformat": 4,
 "nbformat_minor": 5
}
