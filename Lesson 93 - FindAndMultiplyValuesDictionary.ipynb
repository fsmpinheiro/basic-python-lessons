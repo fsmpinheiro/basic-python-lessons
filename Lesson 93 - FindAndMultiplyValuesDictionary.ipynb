{
 "cells": [
  {
   "cell_type": "code",
   "execution_count": 1,
   "id": "ca2f6e8b-390f-4950-bc3e-18d1094404ef",
   "metadata": {},
   "outputs": [],
   "source": [
    "\n",
    "def multiply_values(dictionary):\n",
    "    result = 1\n",
    "    for value in dictionary.values():\n",
    "        result *= value\n",
    "    \n",
    "    return result"
   ]
  },
  {
   "cell_type": "code",
   "execution_count": 3,
   "id": "5089b365-2bf9-4413-8c42-7da7c50132f9",
   "metadata": {},
   "outputs": [
    {
     "name": "stdout",
     "output_type": "stream",
     "text": [
      "The product of all values in the dictionary is: 90.0\n"
     ]
    }
   ],
   "source": [
    "my_dict = {\"a\": 5, \"b\": 10, \"c\": 1.8}\n",
    "\n",
    "total = multiply_values(my_dict)\n",
    "\n",
    "print(f\"The product of all values in the dictionary is: {total}\")"
   ]
  },
  {
   "cell_type": "code",
   "execution_count": null,
   "id": "20fe82c5-f897-4d62-ac91-29c9c530b10f",
   "metadata": {},
   "outputs": [],
   "source": []
  }
 ],
 "metadata": {
  "kernelspec": {
   "display_name": "Python 3 (ipykernel)",
   "language": "python",
   "name": "python3"
  },
  "language_info": {
   "codemirror_mode": {
    "name": "ipython",
    "version": 3
   },
   "file_extension": ".py",
   "mimetype": "text/x-python",
   "name": "python",
   "nbconvert_exporter": "python",
   "pygments_lexer": "ipython3",
   "version": "3.11.4"
  }
 },
 "nbformat": 4,
 "nbformat_minor": 5
}
