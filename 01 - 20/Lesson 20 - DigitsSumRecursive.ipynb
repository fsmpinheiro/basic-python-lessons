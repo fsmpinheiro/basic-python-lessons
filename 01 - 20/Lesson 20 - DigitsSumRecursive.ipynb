{
 "cells": [
  {
   "cell_type": "code",
   "execution_count": 1,
   "id": "e7191bc1-091b-410d-b651-470eaec0eb72",
   "metadata": {},
   "outputs": [],
   "source": [
    "\n",
    "def sum_of_digits(number):\n",
    "    if number == 0:\n",
    "        return 0\n",
    "    return (number % 10) + sum_of_digits(number // 10)"
   ]
  },
  {
   "cell_type": "code",
   "execution_count": null,
   "id": "4eb59773-c1d5-4242-b7f3-04522af9266b",
   "metadata": {},
   "outputs": [],
   "source": [
    "number = int(input(\"Enter a number: \"))\n",
    "result = sum_of_digits(abs(number))\n"
   ]
  }
 ],
 "metadata": {
  "kernelspec": {
   "display_name": "Python 3 (ipykernel)",
   "language": "python",
   "name": "python3"
  },
  "language_info": {
   "codemirror_mode": {
    "name": "ipython",
    "version": 3
   },
   "file_extension": ".py",
   "mimetype": "text/x-python",
   "name": "python",
   "nbconvert_exporter": "python",
   "pygments_lexer": "ipython3",
   "version": "3.11.4"
  }
 },
 "nbformat": 4,
 "nbformat_minor": 5
}
