{
 "cells": [
  {
   "cell_type": "code",
   "execution_count": null,
   "id": "65f8a572-c391-4567-a4bb-74dea94d04d0",
   "metadata": {},
   "outputs": [],
   "source": [
    "\n",
    "def is_prime(number, divisor = 2):\n",
    "    if number <= 1:\n",
    "        return False\n",
    "    if divisor == number:\n",
    "        return True\n",
    "    if number % divisor == 0:\n",
    "        return False\n",
    "    return is_prime(number, divisor + 1)\n",
    "\n",
    "nm = int(input(\"Enter a number: \"))\n",
    "\n"
   ]
  }
 ],
 "metadata": {
  "kernelspec": {
   "display_name": "Python 3 (ipykernel)",
   "language": "python",
   "name": "python3"
  },
  "language_info": {
   "codemirror_mode": {
    "name": "ipython",
    "version": 3
   },
   "file_extension": ".py",
   "mimetype": "text/x-python",
   "name": "python",
   "nbconvert_exporter": "python",
   "pygments_lexer": "ipython3",
   "version": "3.11.0"
  }
 },
 "nbformat": 4,
 "nbformat_minor": 5
}
