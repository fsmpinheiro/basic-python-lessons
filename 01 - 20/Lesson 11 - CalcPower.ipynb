{
 "cells": [
  {
   "cell_type": "code",
   "execution_count": 1,
   "id": "d5bcbe26-58f0-4c90-a93d-a63b4c946e52",
   "metadata": {},
   "outputs": [],
   "source": [
    "\n",
    "def power(base, exp):\n",
    "    if exp == 0:\n",
    "        return 1\n",
    "    return base * power(base, exp -1)"
   ]
  },
  {
   "cell_type": "code",
   "execution_count": 2,
   "id": "e77adae0-b07d-4b0a-b136-7b8499592fec",
   "metadata": {},
   "outputs": [
    {
     "name": "stdin",
     "output_type": "stream",
     "text": [
      "Enter the base number:  12\n",
      "Enter the exponent:  5\n"
     ]
    },
    {
     "name": "stdout",
     "output_type": "stream",
     "text": [
      "248832\n"
     ]
    }
   ],
   "source": [
    "base = int(input(\"Enter the base number: \"))\n",
    "exp  = int(input(\"Enter the exponent: \"))\n",
    "\n",
    "print(power(base, exp))"
   ]
  },
  {
   "cell_type": "code",
   "execution_count": null,
   "id": "8d96c68b-7378-43ff-b073-5c7c1e16f68e",
   "metadata": {},
   "outputs": [],
   "source": []
  }
 ],
 "metadata": {
  "kernelspec": {
   "display_name": "Python 3 (ipykernel)",
   "language": "python",
   "name": "python3"
  },
  "language_info": {
   "codemirror_mode": {
    "name": "ipython",
    "version": 3
   },
   "file_extension": ".py",
   "mimetype": "text/x-python",
   "name": "python",
   "nbconvert_exporter": "python",
   "pygments_lexer": "ipython3",
   "version": "3.11.4"
  }
 },
 "nbformat": 4,
 "nbformat_minor": 5
}
