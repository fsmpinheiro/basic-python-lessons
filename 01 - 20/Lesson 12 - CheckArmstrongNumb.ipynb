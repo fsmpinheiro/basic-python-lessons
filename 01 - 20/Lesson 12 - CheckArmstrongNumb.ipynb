{
 "cells": [
  {
   "cell_type": "code",
   "execution_count": 1,
   "id": "8926a6be-a25f-4468-89d4-22b24c7da3dc",
   "metadata": {},
   "outputs": [],
   "source": [
    "\n",
    "def armstrong(number):\n",
    "    num_str = str(number)\n",
    "    return number == sum(int(digit) ** len(num_str) for digit in num_str)"
   ]
  },
  {
   "cell_type": "code",
   "execution_count": null,
   "id": "94e76799-245f-41de-930a-e39eb2c99cff",
   "metadata": {},
   "outputs": [],
   "source": [
    "num = int(input(\"Enter a number: \"))\n",
    "\n",
    "if armstrong(num):\n",
    "    print(f\"{num} is an Armstrong number.\")\n",
    "else:\n",
    "    print(f\"{num} is not \")\n",
    "\n",
    "# An Armstrong number of three digits is an integer \n",
    "# such that the sum of the cubes of its digits is \n",
    "# equal to the number itself"
   ]
  },
  {
   "cell_type": "code",
   "execution_count": null,
   "id": "cbd8a4a3-80bb-486d-b459-66afdd3531b6",
   "metadata": {},
   "outputs": [],
   "source": []
  }
 ],
 "metadata": {
  "kernelspec": {
   "display_name": "Python 3 (ipykernel)",
   "language": "python",
   "name": "python3"
  },
  "language_info": {
   "codemirror_mode": {
    "name": "ipython",
    "version": 3
   },
   "file_extension": ".py",
   "mimetype": "text/x-python",
   "name": "python",
   "nbconvert_exporter": "python",
   "pygments_lexer": "ipython3",
   "version": "3.11.4"
  }
 },
 "nbformat": 4,
 "nbformat_minor": 5
}
