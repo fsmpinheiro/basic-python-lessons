{
 "cells": [
  {
   "cell_type": "code",
   "execution_count": null,
   "id": "3171990f-f972-4b25-b247-8385ebec044c",
   "metadata": {},
   "outputs": [],
   "source": [
    "\n",
    "def find_numbers(star, end):\n",
    "    print(f\"Numbers divisible by 7 and multiple of 5 between {start} and {end}:\")\n",
    "    for num in range (start, end + 1):\n",
    "        if num % 7 and num "
   ]
  }
 ],
 "metadata": {
  "kernelspec": {
   "display_name": "Python 3 (ipykernel)",
   "language": "python",
   "name": "python3"
  },
  "language_info": {
   "codemirror_mode": {
    "name": "ipython",
    "version": 3
   },
   "file_extension": ".py",
   "mimetype": "text/x-python",
   "name": "python",
   "nbconvert_exporter": "python",
   "pygments_lexer": "ipython3",
   "version": "3.11.4"
  }
 },
 "nbformat": 4,
 "nbformat_minor": 5
}
