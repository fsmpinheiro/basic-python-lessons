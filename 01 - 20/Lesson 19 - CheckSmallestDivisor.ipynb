{
 "cells": [
  {
   "cell_type": "code",
   "execution_count": 3,
   "id": "1481d7b0-ed3d-4add-84c1-215bc0137972",
   "metadata": {},
   "outputs": [],
   "source": [
    "\n",
    "def smallets_divisor(number):\n",
    "    number = abs(number)\n",
    "    if number <= 1:\n",
    "        return \"Input must be greater than 1.\"\n",
    "    for i in range(2, number + 1):\n",
    "        if number % i == 0:\n",
    "            return i"
   ]
  },
  {
   "cell_type": "code",
   "execution_count": 6,
   "id": "53564065-25fa-4ddc-9687-e2e9ce2e58ff",
   "metadata": {},
   "outputs": [
    {
     "name": "stdin",
     "output_type": "stream",
     "text": [
      "Enter an integer:  256\n"
     ]
    },
    {
     "name": "stdout",
     "output_type": "stream",
     "text": [
      "The smallest divisor of 256 is 2\n"
     ]
    }
   ],
   "source": [
    "number = int(input(\"Enter an integer: \"))\n",
    "\n",
    "result = smallets_divisor(number)\n",
    "print(f\"The smallest divisor of {number} is {result}\")"
   ]
  },
  {
   "cell_type": "code",
   "execution_count": null,
   "id": "f2a4e5ec-9efa-40ff-8dbd-5c0b8f995e82",
   "metadata": {},
   "outputs": [],
   "source": []
  }
 ],
 "metadata": {
  "kernelspec": {
   "display_name": "Python 3 (ipykernel)",
   "language": "python",
   "name": "python3"
  },
  "language_info": {
   "codemirror_mode": {
    "name": "ipython",
    "version": 3
   },
   "file_extension": ".py",
   "mimetype": "text/x-python",
   "name": "python",
   "nbconvert_exporter": "python",
   "pygments_lexer": "ipython3",
   "version": "3.11.4"
  }
 },
 "nbformat": 4,
 "nbformat_minor": 5
}
