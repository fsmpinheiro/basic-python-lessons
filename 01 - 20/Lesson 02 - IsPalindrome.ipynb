{
 "cells": [
  {
   "cell_type": "code",
   "execution_count": null,
   "id": "d3657155-b037-4d09-867c-6d6a23129e31",
   "metadata": {},
   "outputs": [],
   "source": [
    "\n",
    "num = input(\"Enter a number: \")\n",
    "\n",
    "if num == num [::-1]:\n",
    "    print(f\"{num} is a palindrome.\")\n",
    "else:\n",
    "    print(f\"{num} is not a palindrome.\")\n",
    "    "
   ]
  },
  {
   "cell_type": "code",
   "execution_count": null,
   "id": "5569348a-181e-4965-bf6a-db83c490de4b",
   "metadata": {},
   "outputs": [],
   "source": []
  }
 ],
 "metadata": {
  "kernelspec": {
   "display_name": "Python 3 (ipykernel)",
   "language": "python",
   "name": "python3"
  },
  "language_info": {
   "codemirror_mode": {
    "name": "ipython",
    "version": 3
   },
   "file_extension": ".py",
   "mimetype": "text/x-python",
   "name": "python",
   "nbconvert_exporter": "python",
   "pygments_lexer": "ipython3",
   "version": "3.11.0"
  }
 },
 "nbformat": 4,
 "nbformat_minor": 5
}
