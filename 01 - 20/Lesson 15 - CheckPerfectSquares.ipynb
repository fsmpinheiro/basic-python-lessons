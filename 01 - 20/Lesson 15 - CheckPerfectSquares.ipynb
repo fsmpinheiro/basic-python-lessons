{
 "cells": [
  {
   "cell_type": "code",
   "execution_count": 2,
   "id": "3e5e97b2-dff7-4ccb-87ec-c520b89e3682",
   "metadata": {},
   "outputs": [],
   "source": [
    "\n",
    "def perfect_squares(start, end):\n",
    "    squares = []\n",
    "    for num in range(start, end + 1):\n",
    "        if(num ** 0.5).is_integer():\n",
    "            squares.append(num)\n",
    "    return squares"
   ]
  },
  {
   "cell_type": "code",
   "execution_count": null,
   "id": "9845e209-9a1d-4132-b590-6b989a7834bb",
   "metadata": {},
   "outputs": [],
   "source": [
    "start = int(input(\"Enter the start of the range: \"))\n",
    "end = int(input(\"Enter the end of the range: \"))\n",
    "\n",
    "print(perfect_squares(start, end))"
   ]
  },
  {
   "cell_type": "code",
   "execution_count": null,
   "id": "2a0bbb3d-f5b1-4087-bbe9-e37628ec4f62",
   "metadata": {},
   "outputs": [],
   "source": []
  }
 ],
 "metadata": {
  "kernelspec": {
   "display_name": "Python 3 (ipykernel)",
   "language": "python",
   "name": "python3"
  },
  "language_info": {
   "codemirror_mode": {
    "name": "ipython",
    "version": 3
   },
   "file_extension": ".py",
   "mimetype": "text/x-python",
   "name": "python",
   "nbconvert_exporter": "python",
   "pygments_lexer": "ipython3",
   "version": "3.11.4"
  }
 },
 "nbformat": 4,
 "nbformat_minor": 5
}
