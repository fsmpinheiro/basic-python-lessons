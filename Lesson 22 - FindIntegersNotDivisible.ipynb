{
 "cells": [
  {
   "cell_type": "code",
   "execution_count": null,
   "id": "9a110395-7eb8-44c2-821a-adab8f31f3f6",
   "metadata": {},
   "outputs": [],
   "source": [
    "\n",
    "def print_not_divisible(strar, end):\n",
    "    print(f\"Integers between {start} and {end} not divisible by 2 or 3:\")\n",
    "    for num in range(start, end +1):\n",
    "        if (num % 2 != 0) and (num % )"
   ]
  }
 ],
 "metadata": {
  "kernelspec": {
   "display_name": "Python 3 (ipykernel)",
   "language": "python",
   "name": "python3"
  },
  "language_info": {
   "codemirror_mode": {
    "name": "ipython",
    "version": 3
   },
   "file_extension": ".py",
   "mimetype": "text/x-python",
   "name": "python",
   "nbconvert_exporter": "python",
   "pygments_lexer": "ipython3",
   "version": "3.11.4"
  }
 },
 "nbformat": 4,
 "nbformat_minor": 5
}
