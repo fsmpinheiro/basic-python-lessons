{
 "cells": [
  {
   "cell_type": "code",
   "execution_count": 1,
   "id": "b9f5bbca-2fda-40f8-be77-aa3714ff58fb",
   "metadata": {},
   "outputs": [],
   "source": [
    "# Um pangrama é uma frase que utiliza todas as letras \n",
    "# do alfabeto de uma língua. A palavra vem do grego \n",
    "# pan ou pantós, que significa \"todos\", e grama, que \n",
    "# significa \"letra\"\n",
    "\n",
    "import string\n",
    "\n",
    "def is_pangram( sentence ):\n",
    "    alphabet = set(string.ascii_lowercase)\n",
    "    letters_in_sentence = set(char.lower() for char in sentence if char.isalpha())\n",
    "\n",
    "    return alphabet <= letters_in_sentence"
   ]
  },
  {
   "cell_type": "code",
   "execution_count": 2,
   "id": "eb9a7441-3e4d-4274-8e7f-35b90099d0db",
   "metadata": {},
   "outputs": [
    {
     "name": "stdin",
     "output_type": "stream",
     "text": [
      "Enter a sentence:  The quick brown fox jumps over lazy dog\n"
     ]
    },
    {
     "name": "stdout",
     "output_type": "stream",
     "text": [
      "The sequence is a pangram.\n",
      "\n"
     ]
    }
   ],
   "source": [
    "if __name__ == \"__main__\":\n",
    "    input_sequence = input(\"Enter a sentence: \")\n",
    "    if is_pangram( input_sequence ):\n",
    "        print(\"The sequence is a pangram.\\n\")\n",
    "    else:\n",
    "        print(\"The sequence is not a pangram.\\n\")"
   ]
  },
  {
   "cell_type": "code",
   "execution_count": null,
   "id": "044c0705-85f7-4a02-8a37-0e77ccd044fc",
   "metadata": {},
   "outputs": [],
   "source": []
  }
 ],
 "metadata": {
  "kernelspec": {
   "display_name": "Python 3 (ipykernel)",
   "language": "python",
   "name": "python3"
  },
  "language_info": {
   "codemirror_mode": {
    "name": "ipython",
    "version": 3
   },
   "file_extension": ".py",
   "mimetype": "text/x-python",
   "name": "python",
   "nbconvert_exporter": "python",
   "pygments_lexer": "ipython3",
   "version": "3.11.4"
  }
 },
 "nbformat": 4,
 "nbformat_minor": 5
}
