{
 "cells": [
  {
   "cell_type": "code",
   "execution_count": 5,
   "id": "d0e0697f-5f9f-438a-acad-6c50b0740ce4",
   "metadata": {},
   "outputs": [],
   "source": [
    "\n",
    "# This funciton prints an identity matrix of size n x n.\n",
    "# : param n : Size of the identity matrix.\n",
    "\n",
    "def print_identity_matrix(n):\n",
    "    \n",
    "    if n <=0:\n",
    "        print(\"Please enter a positive integer for the size of the matrix.\")\n",
    "        return\n",
    "\n",
    "    for i in range(n):\n",
    "        for j in range(n):\n",
    "            if i == j:\n",
    "                print(1, end=\" \")\n",
    "            else:\n",
    "                print(0, end=\" \")\n",
    "        print()"
   ]
  },
  {
   "cell_type": "code",
   "execution_count": 6,
   "id": "0bb35813-004e-4b7a-8a39-c31146bbdcaa",
   "metadata": {},
   "outputs": [
    {
     "name": "stdin",
     "output_type": "stream",
     "text": [
      "Enter the size of the desired matrix:  5\n"
     ]
    },
    {
     "name": "stdout",
     "output_type": "stream",
     "text": [
      "1 0 0 0 0 \n",
      "0 1 0 0 0 \n",
      "0 0 1 0 0 \n",
      "0 0 0 1 0 \n",
      "0 0 0 0 1 \n"
     ]
    }
   ],
   "source": [
    "\n",
    "try:\n",
    "    size = int(input(\"Enter the size of the desired matrix: \"))\n",
    "    print_identity_matrix( size )\n",
    "except ValueError:\n",
    "    print(\"Invalid input! Please enter a valid integer.\")"
   ]
  },
  {
   "cell_type": "code",
   "execution_count": null,
   "id": "3152c9b9-7dc4-4755-8ac2-16506c8a5ec8",
   "metadata": {},
   "outputs": [],
   "source": []
  }
 ],
 "metadata": {
  "kernelspec": {
   "display_name": "Python 3 (ipykernel)",
   "language": "python",
   "name": "python3"
  },
  "language_info": {
   "codemirror_mode": {
    "name": "ipython",
    "version": 3
   },
   "file_extension": ".py",
   "mimetype": "text/x-python",
   "name": "python",
   "nbconvert_exporter": "python",
   "pygments_lexer": "ipython3",
   "version": "3.11.4"
  }
 },
 "nbformat": 4,
 "nbformat_minor": 5
}
