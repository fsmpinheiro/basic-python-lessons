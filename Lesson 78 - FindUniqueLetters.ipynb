{
 "cells": [
  {
   "cell_type": "code",
   "execution_count": 1,
   "id": "8c5146f4-c1ce-49ed-bec5-d36841ec8f01",
   "metadata": {},
   "outputs": [],
   "source": [
    "from collections import Counter\n",
    "\n",
    "def find_unique_letters(str1, str2):\n",
    "    count1 = Counter(str1)\n",
    "    count2 = Counter(str2)\n",
    "\n",
    "    unique_letters = count1 - count2\n",
    "\n",
    "    result = []\n",
    "    for char, count in unique_letters.items():\n",
    "        result.extend([char] * count)\n",
    "    return result"
   ]
  },
  {
   "cell_type": "code",
   "execution_count": 4,
   "id": "c781b1c1-2dd2-4f04-8fee-1c49e684238c",
   "metadata": {},
   "outputs": [
    {
     "name": "stdin",
     "output_type": "stream",
     "text": [
      "Enter the first string:  python\n",
      "Enter the secnd string:  prygram\n"
     ]
    },
    {
     "name": "stdout",
     "output_type": "stream",
     "text": [
      "Letters in the first strings 'python', but not in the second string 'prygram':\n",
      " ['t', 'h', 'o', 'n']\n"
     ]
    }
   ],
   "source": [
    "\n",
    "inpt_strg1 = input(\"Enter the first string: \")\n",
    "inpt_strg2 = input(\"Enter the secnd string: \")\n",
    "\n",
    "unique_letters = find_unique_letters(inpt_strg1, inpt_strg2)\n",
    "\n",
    "print(f\"Letters in the first strings '{inpt_strg1}', but not in the second string '{inpt_strg2}':\\n {unique_letters}\")"
   ]
  },
  {
   "cell_type": "code",
   "execution_count": null,
   "id": "03b18204-2e9b-489a-a9de-4a8a7ea4cdd8",
   "metadata": {},
   "outputs": [],
   "source": []
  }
 ],
 "metadata": {
  "kernelspec": {
   "display_name": "Python 3 (ipykernel)",
   "language": "python",
   "name": "python3"
  },
  "language_info": {
   "codemirror_mode": {
    "name": "ipython",
    "version": 3
   },
   "file_extension": ".py",
   "mimetype": "text/x-python",
   "name": "python",
   "nbconvert_exporter": "python",
   "pygments_lexer": "ipython3",
   "version": "3.11.4"
  }
 },
 "nbformat": 4,
 "nbformat_minor": 5
}
