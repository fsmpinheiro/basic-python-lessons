{
 "cells": [
  {
   "cell_type": "code",
   "execution_count": 1,
   "id": "d9f9bdda-d67b-41f2-9828-e1bef6c9a3b5",
   "metadata": {},
   "outputs": [],
   "source": [
    "\n",
    "def sum_of_series(n):\n",
    "    if n <=0:\n",
    "        return \"N should be a positive integer number.\"\n",
    "\n",
    "    total_sum = 0\n",
    "    for i in range(1, n + 1):\n",
    "        total_sum += 1 / i\n",
    "\n",
    "    return total_sum"
   ]
  },
  {
   "cell_type": "code",
   "execution_count": 6,
   "id": "35291a89-3da0-4558-bc75-2c8b5899e87b",
   "metadata": {},
   "outputs": [
    {
     "name": "stdin",
     "output_type": "stream",
     "text": [
      "Enter a positive integer N:  7\n"
     ]
    },
    {
     "name": "stdout",
     "output_type": "stream",
     "text": [
      "The sum of the series for N= 7 is: 2.592857\n"
     ]
    }
   ],
   "source": [
    "\n",
    "try:\n",
    "    N = int(input(\"Enter a positive integer N: \"))\n",
    "    if N <= 0:\n",
    "        print(\"Please enter a positive integer.\")\n",
    "    else:\n",
    "        result = sum_of_series(N)\n",
    "        print(f\"The sum of the series for N= {N} is: {result:.6f}\")\n",
    "except ValueError:\n",
    "    print(\"Invalid input! Please enter a positive integer.\")"
   ]
  },
  {
   "cell_type": "code",
   "execution_count": null,
   "id": "f43b13c5-7a31-4836-b170-7bf54374b277",
   "metadata": {},
   "outputs": [],
   "source": []
  }
 ],
 "metadata": {
  "kernelspec": {
   "display_name": "Python 3 (ipykernel)",
   "language": "python",
   "name": "python3"
  },
  "language_info": {
   "codemirror_mode": {
    "name": "ipython",
    "version": 3
   },
   "file_extension": ".py",
   "mimetype": "text/x-python",
   "name": "python",
   "nbconvert_exporter": "python",
   "pygments_lexer": "ipython3",
   "version": "3.11.4"
  }
 },
 "nbformat": 4,
 "nbformat_minor": 5
}
