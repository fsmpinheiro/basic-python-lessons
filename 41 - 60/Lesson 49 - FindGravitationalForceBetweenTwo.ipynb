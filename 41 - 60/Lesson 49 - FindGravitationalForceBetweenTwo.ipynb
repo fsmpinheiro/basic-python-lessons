{
 "cells": [
  {
   "cell_type": "code",
   "execution_count": 1,
   "id": "b63566fe-5b0b-481d-9e9d-537e9ed1e662",
   "metadata": {},
   "outputs": [],
   "source": [
    "import math"
   ]
  },
  {
   "cell_type": "code",
   "execution_count": 3,
   "id": "8ca033b3-e84c-4b11-91e4-b4bcd927b20e",
   "metadata": {},
   "outputs": [],
   "source": [
    "\n",
    "def calculate_gravitate_force(m1, m2, r):\n",
    "    G = 6.67430e-11\n",
    "    force = G * (m1 * m2) / (r ** 2)\n",
    "    return force\n",
    "\n",
    "def main():\n",
    "    print(\"Gravitational Force Calculator\")\n",
    "    try:\n",
    "        mass1 = float(input(\"Enter the mass of the first object (kg): \"))\n",
    "        mass2 = float(input(\"Enter the mass of the second object (kg): \"))\n",
    "        distance = float(input(\"Enter the cistance between the objects (m): \"))\n",
    "\n",
    "        if mass1 <= 0 or mass2 <= 0 or distance <= 0:\n",
    "            print(\"Masses and distance must be positive values.\")\n",
    "            return\n",
    "\n",
    "        force = calculate_gravitate_force(mass1, mass2, distance)\n",
    "        print(f\"The gravitational force between the objects is {force:.2e} N.\")\n",
    "    except ValueError:\n",
    "        print(\"Invalid input. Please enter numeric values.\")"
   ]
  },
  {
   "cell_type": "code",
   "execution_count": 4,
   "id": "b69da746-2fdf-4b9e-9ed3-b817f004056f",
   "metadata": {},
   "outputs": [
    {
     "name": "stdout",
     "output_type": "stream",
     "text": [
      "Gravitational Force Calculator\n"
     ]
    },
    {
     "name": "stdin",
     "output_type": "stream",
     "text": [
      "Enter the mass of the first object (kg):  12\n",
      "Enter the mass of the second object (kg):  30\n",
      "Enter the cistance between the objects (m):  45\n"
     ]
    },
    {
     "name": "stdout",
     "output_type": "stream",
     "text": [
      "The gravitational force between the objects is 1.19e-11 N.\n"
     ]
    }
   ],
   "source": [
    "if __name__ == \"__main__\":\n",
    "    main()"
   ]
  },
  {
   "cell_type": "code",
   "execution_count": null,
   "id": "07295003-f1a1-473e-9e3e-86bbf064753b",
   "metadata": {},
   "outputs": [],
   "source": []
  }
 ],
 "metadata": {
  "kernelspec": {
   "display_name": "Python 3 (ipykernel)",
   "language": "python",
   "name": "python3"
  },
  "language_info": {
   "codemirror_mode": {
    "name": "ipython",
    "version": 3
   },
   "file_extension": ".py",
   "mimetype": "text/x-python",
   "name": "python",
   "nbconvert_exporter": "python",
   "pygments_lexer": "ipython3",
   "version": "3.11.4"
  }
 },
 "nbformat": 4,
 "nbformat_minor": 5
}
