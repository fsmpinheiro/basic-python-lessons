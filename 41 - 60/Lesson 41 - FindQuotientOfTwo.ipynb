{
 "cells": [
  {
   "cell_type": "code",
   "execution_count": 1,
   "id": "c054c72d-3bbe-4c98-9329-2d10b5dee864",
   "metadata": {},
   "outputs": [
    {
     "name": "stdin",
     "output_type": "stream",
     "text": [
      "Enter the numarator:  45\n",
      "Enter the denominator:  10\n"
     ]
    },
    {
     "name": "stdout",
     "output_type": "stream",
     "text": [
      "The quotient is: 4\n",
      "The remainder is: 5\n"
     ]
    }
   ],
   "source": [
    "\n",
    "numerator = int(input(\"Enter the numarator: \"))\n",
    "denominator = int(input(\"Enter the denominator: \"))\n",
    "\n",
    "if denominator == 0:\n",
    "    print(\"Division by zero is no allowed.\\n\")\n",
    "else:\n",
    "    quotient = numerator // denominator\n",
    "    remainder = numerator % denominator\n",
    "\n",
    "    print(f\"The quotient is: {quotient}\")\n",
    "    print(f\"The remainder is: {remainder}\")"
   ]
  },
  {
   "cell_type": "code",
   "execution_count": null,
   "id": "8c603e04-973e-4343-aef6-0f6e6824df46",
   "metadata": {},
   "outputs": [],
   "source": []
  }
 ],
 "metadata": {
  "kernelspec": {
   "display_name": "Python 3 (ipykernel)",
   "language": "python",
   "name": "python3"
  },
  "language_info": {
   "codemirror_mode": {
    "name": "ipython",
    "version": 3
   },
   "file_extension": ".py",
   "mimetype": "text/x-python",
   "name": "python",
   "nbconvert_exporter": "python",
   "pygments_lexer": "ipython3",
   "version": "3.11.4"
  }
 },
 "nbformat": 4,
 "nbformat_minor": 5
}
