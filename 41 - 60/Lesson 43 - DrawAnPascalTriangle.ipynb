{
 "cells": [
  {
   "cell_type": "code",
   "execution_count": 1,
   "id": "82687f23-e26b-4af1-8d6f-747287cfc794",
   "metadata": {},
   "outputs": [],
   "source": [
    "\n",
    "def print_pascals_triangle(n):\n",
    "    triangle = [[1]]\n",
    "    for i in range(1,n):\n",
    "        prev_row = triangle[-1]\n",
    "        curr_row = [1]\n",
    "        for j in range(1, len(prev_row)):\n",
    "            curr_row.append( prev_row[j - 1] + prev_row[j] )\n",
    "\n",
    "        curr_row.append(1)\n",
    "        triangle.append(curr_row)\n",
    "\n",
    "    for row in triangle:\n",
    "        print( \" \" * (n - len(row)), \" \".join(map(str, row) ) )"
   ]
  },
  {
   "cell_type": "code",
   "execution_count": 5,
   "id": "83405e6a-1243-4a43-a693-0112cc78aab3",
   "metadata": {},
   "outputs": [
    {
     "name": "stdin",
     "output_type": "stream",
     "text": [
      "Enter the desired number of rows:  6\n"
     ]
    },
    {
     "name": "stdout",
     "output_type": "stream",
     "text": [
      "      1\n",
      "     1 1\n",
      "    1 2 1\n",
      "   1 3 3 1\n",
      "  1 4 6 4 1\n",
      " 1 5 10 10 5 1\n"
     ]
    }
   ],
   "source": [
    "n_rows = int(input(\"Enter the desired number of rows: \"))\n",
    "print_pascals_triangle(n_rows)"
   ]
  },
  {
   "cell_type": "code",
   "execution_count": null,
   "id": "44d0908c-d724-49e7-b885-f82f9ad49caf",
   "metadata": {},
   "outputs": [],
   "source": []
  }
 ],
 "metadata": {
  "kernelspec": {
   "display_name": "Python 3 (ipykernel)",
   "language": "python",
   "name": "python3"
  },
  "language_info": {
   "codemirror_mode": {
    "name": "ipython",
    "version": 3
   },
   "file_extension": ".py",
   "mimetype": "text/x-python",
   "name": "python",
   "nbconvert_exporter": "python",
   "pygments_lexer": "ipython3",
   "version": "3.11.4"
  }
 },
 "nbformat": 4,
 "nbformat_minor": 5
}
