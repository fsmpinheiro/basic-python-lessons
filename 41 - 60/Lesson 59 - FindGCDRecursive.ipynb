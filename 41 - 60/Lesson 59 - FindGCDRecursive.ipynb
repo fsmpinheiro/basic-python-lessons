{
 "cells": [
  {
   "cell_type": "code",
   "execution_count": 1,
   "id": "cdc06cde-d9df-45bf-92c1-06da5bd76a3c",
   "metadata": {},
   "outputs": [],
   "source": [
    "# Function to calculate GCD of two number using recursion\n",
    "\n",
    "def find_gcd(a, b):\n",
    "    if b == 0:\n",
    "        return a\n",
    "    else:\n",
    "        return find_gcd(b, a % b)"
   ]
  },
  {
   "cell_type": "code",
   "execution_count": 2,
   "id": "b0c8214b-2165-4917-a01e-cbc4d78fc4cb",
   "metadata": {},
   "outputs": [
    {
     "name": "stdin",
     "output_type": "stream",
     "text": [
      "Enter the first number:  42\n",
      "Enter the second number:  45\n"
     ]
    },
    {
     "name": "stdout",
     "output_type": "stream",
     "text": [
      "The GCD os 42 and 45 is 3. \n",
      "\n"
     ]
    }
   ],
   "source": [
    "n1 = int(input(\"Enter the first number: \"))\n",
    "n2 = int(input(\"Enter the second number: \"))\n",
    "\n",
    "result = find_gcd(n1, n2)\n",
    "\n",
    "print(f\"The GCD os {n1} and {n2} is {result}. \\n\")"
   ]
  },
  {
   "cell_type": "code",
   "execution_count": null,
   "id": "9ad377d4-051f-4b28-9f3b-80ec0b870e47",
   "metadata": {},
   "outputs": [],
   "source": []
  }
 ],
 "metadata": {
  "kernelspec": {
   "display_name": "Python 3 (ipykernel)",
   "language": "python",
   "name": "python3"
  },
  "language_info": {
   "codemirror_mode": {
    "name": "ipython",
    "version": 3
   },
   "file_extension": ".py",
   "mimetype": "text/x-python",
   "name": "python",
   "nbconvert_exporter": "python",
   "pygments_lexer": "ipython3",
   "version": "3.11.4"
  }
 },
 "nbformat": 4,
 "nbformat_minor": 5
}
