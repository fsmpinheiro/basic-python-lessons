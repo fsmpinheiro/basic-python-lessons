{
 "cells": [
  {
   "cell_type": "code",
   "execution_count": 1,
   "id": "36d754bf-155d-40bf-92d4-38a946dd3bcc",
   "metadata": {},
   "outputs": [],
   "source": [
    "import math"
   ]
  },
  {
   "cell_type": "code",
   "execution_count": 4,
   "id": "3f96858f-9f7a-4e39-a471-724e50f237a8",
   "metadata": {},
   "outputs": [],
   "source": [
    "# Function to find the LCM (em português, o MMC) of two numbers.\n",
    "\n",
    "def find_lcm(num1, num2):\n",
    "    gdc = math.gcd(num1, num2)\n",
    "    lcm = ( num1 * num2 ) // gdc\n",
    "    return lcm\n"
   ]
  },
  {
   "cell_type": "code",
   "execution_count": 5,
   "id": "159e1cf5-c5c7-4dc7-b941-d5b054ca1edb",
   "metadata": {},
   "outputs": [
    {
     "name": "stdin",
     "output_type": "stream",
     "text": [
      "Enter the first number:  12\n",
      "Enter the second number:  14\n"
     ]
    },
    {
     "name": "stdout",
     "output_type": "stream",
     "text": [
      "The LCM of 12 and 14 is: 84.\n",
      "\n"
     ]
    }
   ],
   "source": [
    "n1 = int(input(\"Enter the first number: \"))\n",
    "n2 = int(input(\"Enter the second number: \"))\n",
    "\n",
    "result = find_lcm(n1, n2)\n",
    "print(f\"The LCM of {n1} and {n2} is: {result}.\\n\")"
   ]
  },
  {
   "cell_type": "code",
   "execution_count": null,
   "id": "a9987735-0a95-4098-98d1-eb13d3a89363",
   "metadata": {},
   "outputs": [],
   "source": []
  }
 ],
 "metadata": {
  "kernelspec": {
   "display_name": "Python 3 (ipykernel)",
   "language": "python",
   "name": "python3"
  },
  "language_info": {
   "codemirror_mode": {
    "name": "ipython",
    "version": 3
   },
   "file_extension": ".py",
   "mimetype": "text/x-python",
   "name": "python",
   "nbconvert_exporter": "python",
   "pygments_lexer": "ipython3",
   "version": "3.11.4"
  }
 },
 "nbformat": 4,
 "nbformat_minor": 5
}
