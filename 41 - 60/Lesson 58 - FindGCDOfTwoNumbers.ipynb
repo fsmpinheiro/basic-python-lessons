{
 "cells": [
  {
   "cell_type": "code",
   "execution_count": 1,
   "id": "33dc897d-29bf-44c1-8a37-f1ef66f23828",
   "metadata": {},
   "outputs": [],
   "source": [
    "\n",
    "def find_gcd(num1, num2):\n",
    "    while num2:\n",
    "        num1, num2 = num2, num1 % num2\n",
    "    return num1"
   ]
  },
  {
   "cell_type": "code",
   "execution_count": 2,
   "id": "40e052eb-d555-4b62-83db-daf844ae0a55",
   "metadata": {},
   "outputs": [
    {
     "name": "stdin",
     "output_type": "stream",
     "text": [
      "Enter the first number:  12\n",
      "Enter the second number:  40\n"
     ]
    },
    {
     "name": "stdout",
     "output_type": "stream",
     "text": [
      "The GCD of 12 and 40 is: 4.\n",
      "\n"
     ]
    }
   ],
   "source": [
    "\n",
    "n1 = int(input(\"Enter the first number: \"))\n",
    "n2 = int(input(\"Enter the second number: \"))\n",
    "\n",
    "gcd = find_gcd(n1, n2)\n",
    "\n",
    "print(f\"The GCD of {n1} and {n2} is: {gcd}.\\n\")"
   ]
  },
  {
   "cell_type": "code",
   "execution_count": null,
   "id": "bd649fa0-0a34-4b1c-84fb-35577a3ef4c0",
   "metadata": {},
   "outputs": [],
   "source": []
  }
 ],
 "metadata": {
  "kernelspec": {
   "display_name": "Python 3 (ipykernel)",
   "language": "python",
   "name": "python3"
  },
  "language_info": {
   "codemirror_mode": {
    "name": "ipython",
    "version": 3
   },
   "file_extension": ".py",
   "mimetype": "text/x-python",
   "name": "python",
   "nbconvert_exporter": "python",
   "pygments_lexer": "ipython3",
   "version": "3.11.4"
  }
 },
 "nbformat": 4,
 "nbformat_minor": 5
}
