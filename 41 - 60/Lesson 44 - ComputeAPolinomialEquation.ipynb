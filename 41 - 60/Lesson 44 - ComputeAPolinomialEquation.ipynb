{
 "cells": [
  {
   "cell_type": "code",
   "execution_count": 1,
   "id": "7da600a6-f39d-4af2-86f7-b745ba1d078f",
   "metadata": {},
   "outputs": [],
   "source": [
    "\n",
    "def compute_polynomial(coefficients, x):\n",
    "    result = 0\n",
    "    n = len(coefficients)\n",
    "    for i in range(n):\n",
    "        result += coefficients[i] * ( x ** (n - 1 - i) )\n",
    "    return result"
   ]
  },
  {
   "cell_type": "code",
   "execution_count": 2,
   "id": "1a030ccf-17c0-4c5f-bad6-4db9630aab03",
   "metadata": {},
   "outputs": [
    {
     "name": "stdout",
     "output_type": "stream",
     "text": [
      "The value of the polunomial at x = 5 is: 12\n"
     ]
    }
   ],
   "source": [
    "coefficients_list = [1, -3, 2]\n",
    "x_value = 5\n",
    "\n",
    "result = compute_polynomial( coefficients_list, x_value )\n",
    "\n",
    "print(f\"The value of the polunomial at x = {x_value} is: {result}\")"
   ]
  },
  {
   "cell_type": "code",
   "execution_count": null,
   "id": "46eebb54-6ba9-49f3-a130-a17dc203901a",
   "metadata": {},
   "outputs": [],
   "source": []
  }
 ],
 "metadata": {
  "kernelspec": {
   "display_name": "Python 3 (ipykernel)",
   "language": "python",
   "name": "python3"
  },
  "language_info": {
   "codemirror_mode": {
    "name": "ipython",
    "version": 3
   },
   "file_extension": ".py",
   "mimetype": "text/x-python",
   "name": "python",
   "nbconvert_exporter": "python",
   "pygments_lexer": "ipython3",
   "version": "3.11.4"
  }
 },
 "nbformat": 4,
 "nbformat_minor": 5
}
