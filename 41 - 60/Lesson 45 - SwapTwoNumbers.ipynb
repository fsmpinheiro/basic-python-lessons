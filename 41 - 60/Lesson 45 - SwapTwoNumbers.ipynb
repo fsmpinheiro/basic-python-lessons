{
 "cells": [
  {
   "cell_type": "code",
   "execution_count": 1,
   "id": "23c10a47-271c-4f2a-a32b-011e04a2d6d5",
   "metadata": {},
   "outputs": [],
   "source": [
    "\n",
    "def swap_numbers(a,b):\n",
    "    a = a + b     # Ex: 5 + 3\n",
    "    b = a - b     # Ex: 8 - 3\n",
    "    a = a - b     # Ex: 8 - 5\n",
    "    return a, b"
   ]
  },
  {
   "cell_type": "code",
   "execution_count": 2,
   "id": "fbfff84d-8a32-4bce-87f9-c883ddf4aaab",
   "metadata": {},
   "outputs": [
    {
     "name": "stdin",
     "output_type": "stream",
     "text": [
      "Enter the first number:  11\n",
      "Enter the first number:  5\n"
     ]
    },
    {
     "name": "stdout",
     "output_type": "stream",
     "text": [
      "After swapping: First number = 5, the Second number = 11\n"
     ]
    }
   ],
   "source": [
    "a = int(input(\"Enter the first number: \"))\n",
    "b = int(input(\"Enter the first number: \"))\n",
    "\n",
    "a, b = swap_numbers(a, b)\n",
    "\n",
    "print(f\"After swapping: First number = {a}, the Second number = {b}\")"
   ]
  },
  {
   "cell_type": "code",
   "execution_count": null,
   "id": "1549396e-1c5d-4a43-8a34-e3f8d383fa66",
   "metadata": {},
   "outputs": [],
   "source": []
  }
 ],
 "metadata": {
  "kernelspec": {
   "display_name": "Python 3 (ipykernel)",
   "language": "python",
   "name": "python3"
  },
  "language_info": {
   "codemirror_mode": {
    "name": "ipython",
    "version": 3
   },
   "file_extension": ".py",
   "mimetype": "text/x-python",
   "name": "python",
   "nbconvert_exporter": "python",
   "pygments_lexer": "ipython3",
   "version": "3.11.4"
  }
 },
 "nbformat": 4,
 "nbformat_minor": 5
}
