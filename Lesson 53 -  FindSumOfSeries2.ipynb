{
 "cells": [
  {
   "cell_type": "code",
   "execution_count": 3,
   "id": "8e45510f-ccb2-43ee-8740-c8f5e5c2efa3",
   "metadata": {},
   "outputs": [],
   "source": [
    "import math\n",
    "\n",
    "def sum_of_series(n):\n",
    "\n",
    "    if n <= 0:\n",
    "        return \"N should be a positive integer.\"\n",
    "\n",
    "    total_sum = 0\n",
    "    for i in range(1, n + 1):\n",
    "        total_sum += 1 / math.factorial(i)\n",
    "\n",
    "    return total_sum"
   ]
  },
  {
   "cell_type": "code",
   "execution_count": 4,
   "id": "4ed02859-f297-4417-bfd6-bbacaa03aa67",
   "metadata": {},
   "outputs": [
    {
     "name": "stdin",
     "output_type": "stream",
     "text": [
      "Enter a positive integer number N:  6\n"
     ]
    },
    {
     "name": "stdout",
     "output_type": "stream",
     "text": [
      "The sum of the series for N=6 is: 1.718056\n"
     ]
    }
   ],
   "source": [
    "\n",
    "try:\n",
    "    N = int(input(\"Enter a positive integer number N: \"))\n",
    "    if N <= 0:\n",
    "        print(\"Please enter positive integer.\")\n",
    "    else:\n",
    "        result = sum_of_series(N)\n",
    "        print(f\"The sum of the series for N={N} is: {result:.6f}\")\n",
    "except ValueError:\n",
    "    print(\"Invalid input! Please enter a positive integer.\")"
   ]
  },
  {
   "cell_type": "code",
   "execution_count": null,
   "id": "918e4ca1-e964-42b8-9847-390f2a714ce6",
   "metadata": {},
   "outputs": [],
   "source": []
  }
 ],
 "metadata": {
  "kernelspec": {
   "display_name": "Python 3 (ipykernel)",
   "language": "python",
   "name": "python3"
  },
  "language_info": {
   "codemirror_mode": {
    "name": "ipython",
    "version": 3
   },
   "file_extension": ".py",
   "mimetype": "text/x-python",
   "name": "python",
   "nbconvert_exporter": "python",
   "pygments_lexer": "ipython3",
   "version": "3.11.4"
  }
 },
 "nbformat": 4,
 "nbformat_minor": 5
}
