{
 "cells": [
  {
   "cell_type": "code",
   "execution_count": 1,
   "id": "f7359e5b-04b4-4100-98e7-b0bc65108d2e",
   "metadata": {},
   "outputs": [],
   "source": [
    "\n",
    "def number_sum(number):\n",
    "    total = 0\n",
    "    number = abs(number)\n",
    "    while number > 0:\n",
    "        total += (number % 10)\n",
    "        number //= 10\n",
    "    return total"
   ]
  },
  {
   "cell_type": "code",
   "execution_count": 2,
   "id": "9124d38d-9ffc-4f79-9e93-ca07ce251cf9",
   "metadata": {},
   "outputs": [
    {
     "name": "stdin",
     "output_type": "stream",
     "text": [
      "Enter a number:  78\n"
     ]
    },
    {
     "name": "stdout",
     "output_type": "stream",
     "text": [
      "The sum of the digits of 78 is 15.\n"
     ]
    }
   ],
   "source": [
    "\n",
    "number = int(input(\"Enter a number: \"))\n",
    "\n",
    "result = number_sum(number)\n",
    "\n",
    "print(f\"The sum of the digits of {number} is {result}.\")"
   ]
  },
  {
   "cell_type": "code",
   "execution_count": null,
   "id": "5545dd58-d835-48b2-8151-9ec9e7b547da",
   "metadata": {},
   "outputs": [],
   "source": []
  }
 ],
 "metadata": {
  "kernelspec": {
   "display_name": "Python 3 (ipykernel)",
   "language": "python",
   "name": "python3"
  },
  "language_info": {
   "codemirror_mode": {
    "name": "ipython",
    "version": 3
   },
   "file_extension": ".py",
   "mimetype": "text/x-python",
   "name": "python",
   "nbconvert_exporter": "python",
   "pygments_lexer": "ipython3",
   "version": "3.11.4"
  }
 },
 "nbformat": 4,
 "nbformat_minor": 5
}
