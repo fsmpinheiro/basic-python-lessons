{
 "cells": [
  {
   "cell_type": "code",
   "execution_count": 1,
   "id": "ddc89685-5609-4755-8920-1fe15bbaf0d3",
   "metadata": {},
   "outputs": [],
   "source": [
    "\n",
    "def check_substring(main_string, sub_string):\n",
    "    if sub_string in main_string:\n",
    "        return True\n",
    "    else:\n",
    "        return False"
   ]
  },
  {
   "cell_type": "code",
   "execution_count": 2,
   "id": "9e339f59-30e7-4390-9b52-f9804207ac3b",
   "metadata": {},
   "outputs": [
    {
     "name": "stdin",
     "output_type": "stream",
     "text": [
      "Enter the main string:  hello world\n",
      "Enter the substring to search:  o\n"
     ]
    },
    {
     "name": "stdout",
     "output_type": "stream",
     "text": [
      "The substring 'o' is presente in the main string.\n",
      "\n"
     ]
    }
   ],
   "source": [
    "\n",
    "main_str = input(\"Enter the main string: \")\n",
    "subs_str = input(\"Enter the substring to search: \")\n",
    "\n",
    "if check_substring(main_str, subs_str):\n",
    "    print(f\"The substring '{subs_str}' is presente in the main string.\\n\")\n",
    "else:\n",
    "    print(f\"The substring '{subs_str}' is not presente in the main string.\\n\")"
   ]
  },
  {
   "cell_type": "code",
   "execution_count": null,
   "id": "625fd552-7492-4e7e-8bc1-3b1cfaf5e3aa",
   "metadata": {},
   "outputs": [],
   "source": []
  }
 ],
 "metadata": {
  "kernelspec": {
   "display_name": "Python 3 (ipykernel)",
   "language": "python",
   "name": "python3"
  },
  "language_info": {
   "codemirror_mode": {
    "name": "ipython",
    "version": 3
   },
   "file_extension": ".py",
   "mimetype": "text/x-python",
   "name": "python",
   "nbconvert_exporter": "python",
   "pygments_lexer": "ipython3",
   "version": "3.11.4"
  }
 },
 "nbformat": 4,
 "nbformat_minor": 5
}
