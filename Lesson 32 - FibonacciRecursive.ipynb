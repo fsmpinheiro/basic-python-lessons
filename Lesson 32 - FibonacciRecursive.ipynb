{
 "cells": [
  {
   "cell_type": "code",
   "execution_count": 1,
   "id": "ac951c59-56c3-4cbb-a137-3b979419bf10",
   "metadata": {},
   "outputs": [],
   "source": [
    "\n",
    "def fibonacci_series(n):\n",
    "    a, b = 0, 1\n",
    "    series = []\n",
    "\n",
    "    for _ in range(n):\n",
    "        series.append(a)\n",
    "        a, b = b, a + b\n",
    "    \n",
    "    return series"
   ]
  },
  {
   "cell_type": "code",
   "execution_count": 2,
   "id": "85d2d972-63ee-4ef9-98a7-ab1a807511a1",
   "metadata": {},
   "outputs": [
    {
     "name": "stdin",
     "output_type": "stream",
     "text": [
      "Enter the number representing the length of the term list:  7\n"
     ]
    },
    {
     "name": "stdout",
     "output_type": "stream",
     "text": [
      "\n",
      "Fibonacci series: \n",
      "[0, 1, 1, 2, 3, 5, 8]\n"
     ]
    }
   ],
   "source": [
    "size_list = int(input(\"Enter the number representing the length of the term list: \"))\n",
    "\n",
    "if size_list <= 0:\n",
    "    print(\"Please enter a positive integer.\")\n",
    "else:\n",
    "    print(f\"\\nFibonacci series: \\n{fibonacci_series(size_list)}\")"
   ]
  },
  {
   "cell_type": "code",
   "execution_count": null,
   "id": "d703d138-4525-405b-b8b9-fcaf443ee703",
   "metadata": {},
   "outputs": [],
   "source": []
  }
 ],
 "metadata": {
  "kernelspec": {
   "display_name": "Python 3 (ipykernel)",
   "language": "python",
   "name": "python3"
  },
  "language_info": {
   "codemirror_mode": {
    "name": "ipython",
    "version": 3
   },
   "file_extension": ".py",
   "mimetype": "text/x-python",
   "name": "python",
   "nbconvert_exporter": "python",
   "pygments_lexer": "ipython3",
   "version": "3.11.4"
  }
 },
 "nbformat": 4,
 "nbformat_minor": 5
}
