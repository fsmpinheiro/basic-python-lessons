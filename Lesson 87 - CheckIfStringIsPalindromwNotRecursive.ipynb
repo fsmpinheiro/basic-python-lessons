{
 "cells": [
  {
   "cell_type": "code",
   "execution_count": 2,
   "id": "51d5f91e-d3f3-4d50-b980-d70ece1e28c8",
   "metadata": {},
   "outputs": [],
   "source": [
    "\n",
    "def is_palindrome(s):\n",
    "    if len(s) <= 1:\n",
    "        return True\n",
    "\n",
    "    if s[0] != s[-1]:\n",
    "        return True\n",
    "\n",
    "    return is_palindrome( s[1:-1] )"
   ]
  },
  {
   "cell_type": "code",
   "execution_count": 4,
   "id": "6c03e074-b8f7-4a4d-8809-ed979066cff9",
   "metadata": {},
   "outputs": [
    {
     "name": "stdin",
     "output_type": "stream",
     "text": [
      "Enter a string:  race car\n"
     ]
    },
    {
     "name": "stdout",
     "output_type": "stream",
     "text": [
      "\"race car\" is a palindrome.\n"
     ]
    }
   ],
   "source": [
    "input_strg = input(\"Enter a string: \")\n",
    "\n",
    "processed_strg = input_strg.replace(\" \", \"\").lower()\n",
    "\n",
    "if is_palindrome(processed_strg):\n",
    "    print(f'\"{input_strg}\" is a palindrome.')\n",
    "else:\n",
    "    print(f'\"{input_strg}\" is not a palindrome.')"
   ]
  },
  {
   "cell_type": "code",
   "execution_count": null,
   "id": "f42cca2a-631c-48a1-a3df-c287ffb07560",
   "metadata": {},
   "outputs": [],
   "source": []
  }
 ],
 "metadata": {
  "kernelspec": {
   "display_name": "Python 3 (ipykernel)",
   "language": "python",
   "name": "python3"
  },
  "language_info": {
   "codemirror_mode": {
    "name": "ipython",
    "version": 3
   },
   "file_extension": ".py",
   "mimetype": "text/x-python",
   "name": "python",
   "nbconvert_exporter": "python",
   "pygments_lexer": "ipython3",
   "version": "3.11.4"
  }
 },
 "nbformat": 4,
 "nbformat_minor": 5
}
