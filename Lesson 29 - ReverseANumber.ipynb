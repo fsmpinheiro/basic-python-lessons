{
 "cells": [
  {
   "cell_type": "code",
   "execution_count": 1,
   "id": "1a75be08-0e0f-44ba-8d20-72bce86188e6",
   "metadata": {},
   "outputs": [],
   "source": [
    "\n",
    "def reverse_a_number(number):\n",
    "    reverse_a_number = int(str(number)[::-1])\n",
    "    return reverse_a_number"
   ]
  },
  {
   "cell_type": "code",
   "execution_count": 2,
   "id": "e3a71d63-01ef-4a9f-ba2a-77da233ded53",
   "metadata": {},
   "outputs": [
    {
     "name": "stdin",
     "output_type": "stream",
     "text": [
      "Enter a number:  1986\n"
     ]
    },
    {
     "name": "stdout",
     "output_type": "stream",
     "text": [
      "The reverse os 1986 is 6891.\n",
      "\n"
     ]
    }
   ],
   "source": [
    "number = int(input(\"Enter a number: \"))\n",
    "reversed_num = reverse_a_number(number)\n",
    "print(f\"The reverse os {number} is {reversed_num}.\\n\")"
   ]
  },
  {
   "cell_type": "code",
   "execution_count": null,
   "id": "9ac4f0d2-b21e-47ce-a9a6-52ed8c7834ca",
   "metadata": {},
   "outputs": [],
   "source": []
  }
 ],
 "metadata": {
  "kernelspec": {
   "display_name": "Python 3 (ipykernel)",
   "language": "python",
   "name": "python3"
  },
  "language_info": {
   "codemirror_mode": {
    "name": "ipython",
    "version": 3
   },
   "file_extension": ".py",
   "mimetype": "text/x-python",
   "name": "python",
   "nbconvert_exporter": "python",
   "pygments_lexer": "ipython3",
   "version": "3.11.4"
  }
 },
 "nbformat": 4,
 "nbformat_minor": 5
}
