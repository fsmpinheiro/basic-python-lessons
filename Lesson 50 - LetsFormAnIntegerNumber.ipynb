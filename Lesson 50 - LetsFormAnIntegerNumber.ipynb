{
 "cells": [
  {
   "cell_type": "code",
   "execution_count": 3,
   "id": "e07f42bd-4528-42aa-bee0-c37aaaacaffb",
   "metadata": {},
   "outputs": [],
   "source": [
    "\n",
    "def form_integer(number):\n",
    "    if number < 0:\n",
    "        print(\"Please provide a non-negative integer.\\n\")\n",
    "        return None\n",
    "\n",
    "    num_str = str(number)\n",
    "    num_digits = len(num_str)\n",
    "\n",
    "    last_digit = int(num_str[-1])\n",
    "\n",
    "    result = num_digits * 10 + last_digit\n",
    "    return result"
   ]
  },
  {
   "cell_type": "code",
   "execution_count": 6,
   "id": "b4c2d05c-a4ee-4198-819e-3606049ae39a",
   "metadata": {},
   "outputs": [
    {
     "name": "stdin",
     "output_type": "stream",
     "text": [
      "Enter a positive integer:  1024\n"
     ]
    },
    {
     "name": "stdout",
     "output_type": "stream",
     "text": [
      "The newly formed integer is: 44\n"
     ]
    }
   ],
   "source": [
    "num = int(input(\"Enter a positive integer: \"))\n",
    "new_integer = form_integer(num)\n",
    "\n",
    "if new_integer is not None:\n",
    "    print(f\"The newly formed integer is: {new_integer}\")"
   ]
  },
  {
   "cell_type": "code",
   "execution_count": null,
   "id": "f60bc8c3-5114-4003-8782-d1f2a953953b",
   "metadata": {},
   "outputs": [],
   "source": []
  }
 ],
 "metadata": {
  "kernelspec": {
   "display_name": "Python 3 (ipykernel)",
   "language": "python",
   "name": "python3"
  },
  "language_info": {
   "codemirror_mode": {
    "name": "ipython",
    "version": 3
   },
   "file_extension": ".py",
   "mimetype": "text/x-python",
   "name": "python",
   "nbconvert_exporter": "python",
   "pygments_lexer": "ipython3",
   "version": "3.11.4"
  }
 },
 "nbformat": 4,
 "nbformat_minor": 5
}
