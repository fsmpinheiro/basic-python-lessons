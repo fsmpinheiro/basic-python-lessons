{
 "cells": [
  {
   "cell_type": "code",
   "execution_count": 5,
   "id": "ea2c05ef-d9b1-4937-91a6-7e8fbfa14e38",
   "metadata": {},
   "outputs": [],
   "source": [
    "\n",
    "def conversion(cm):\n",
    "    total_inches = cm / 2.54\n",
    "    feet =int(total_inches // 12)\n",
    "    inches = total_inches % 12\n",
    "    return feet, inches\n"
   ]
  },
  {
   "cell_type": "code",
   "execution_count": 6,
   "id": "05d4dbba-1d75-47d2-a70b-4ca802d9f948",
   "metadata": {},
   "outputs": [
    {
     "name": "stdin",
     "output_type": "stream",
     "text": [
      "Enter length in centimeters:  25\n"
     ]
    },
    {
     "name": "stdout",
     "output_type": "stream",
     "text": [
      "25.0cm is aproximately 0 feet and 9.84 inches.\n"
     ]
    }
   ],
   "source": [
    "cm = float(input(\"Enter length in centimeters: \"))\n",
    "\n",
    "feet, inches = conversion(cm)\n",
    "print(f\"{cm}cm is aproximately {feet} feet and {inches:.2f} inches.\")\n"
   ]
  },
  {
   "cell_type": "code",
   "execution_count": null,
   "id": "878d34c2-8765-4126-b274-a07a934e71aa",
   "metadata": {},
   "outputs": [],
   "source": []
  }
 ],
 "metadata": {
  "kernelspec": {
   "display_name": "Python 3 (ipykernel)",
   "language": "python",
   "name": "python3"
  },
  "language_info": {
   "codemirror_mode": {
    "name": "ipython",
    "version": 3
   },
   "file_extension": ".py",
   "mimetype": "text/x-python",
   "name": "python",
   "nbconvert_exporter": "python",
   "pygments_lexer": "ipython3",
   "version": "3.11.0"
  }
 },
 "nbformat": 4,
 "nbformat_minor": 5
}
