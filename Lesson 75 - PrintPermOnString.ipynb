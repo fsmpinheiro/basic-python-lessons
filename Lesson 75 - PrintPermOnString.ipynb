{
 "cells": [
  {
   "cell_type": "code",
   "execution_count": 3,
   "id": "8f0ee9d3-6acc-4c6a-8b2d-6f4bb79186b8",
   "metadata": {},
   "outputs": [],
   "source": [
    "\n",
    "def lexicographic_permutations(s, current=\"\"):\n",
    "    if len(s) == 0:\n",
    "        print(current)\n",
    "    else:\n",
    "        for i in range (len(s)):\n",
    "            lexicographic_permutations(s[:i] + s[i+1:], current + s[i])\n",
    "\n",
    "def permutation_in_lexicographic_order(string):\n",
    "    sorted_string = ''.join(sorted(string))\n",
    "    lexicographic_permutations(sorted_string)"
   ]
  },
  {
   "cell_type": "code",
   "execution_count": 4,
   "id": "8f68d42b-0590-4ac3-9ad5-6060a0fc6015",
   "metadata": {},
   "outputs": [
    {
     "name": "stdin",
     "output_type": "stream",
     "text": [
      "Enter a string:  efdg\n"
     ]
    },
    {
     "name": "stdout",
     "output_type": "stream",
     "text": [
      "The permutation in lexicographic order: \n",
      "defg\n",
      "degf\n",
      "dfeg\n",
      "dfge\n",
      "dgef\n",
      "dgfe\n",
      "edfg\n",
      "edgf\n",
      "efdg\n",
      "efgd\n",
      "egdf\n",
      "egfd\n",
      "fdeg\n",
      "fdge\n",
      "fedg\n",
      "fegd\n",
      "fgde\n",
      "fged\n",
      "gdef\n",
      "gdfe\n",
      "gedf\n",
      "gefd\n",
      "gfde\n",
      "gfed\n"
     ]
    }
   ],
   "source": [
    "\n",
    "input_strg = input(\"Enter a string: \")\n",
    "print(\"The permutation in lexicographic order: \")\n",
    "permutation_in_lexicographic_order(input_strg)"
   ]
  },
  {
   "cell_type": "code",
   "execution_count": null,
   "id": "d7b82f31-c188-43b9-b901-953a76d7d1aa",
   "metadata": {},
   "outputs": [],
   "source": []
  }
 ],
 "metadata": {
  "kernelspec": {
   "display_name": "Python 3 (ipykernel)",
   "language": "python",
   "name": "python3"
  },
  "language_info": {
   "codemirror_mode": {
    "name": "ipython",
    "version": 3
   },
   "file_extension": ".py",
   "mimetype": "text/x-python",
   "name": "python",
   "nbconvert_exporter": "python",
   "pygments_lexer": "ipython3",
   "version": "3.11.4"
  }
 },
 "nbformat": 4,
 "nbformat_minor": 5
}
